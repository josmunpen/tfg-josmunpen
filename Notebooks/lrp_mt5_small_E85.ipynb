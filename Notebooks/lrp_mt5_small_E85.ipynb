{
  "nbformat": 4,
  "nbformat_minor": 0,
  "metadata": {
    "accelerator": "GPU",
    "colab": {
      "name": "lrp_mt5_small_E85_b.ipynb",
      "provenance": [],
      "collapsed_sections": []
    },
    "kernelspec": {
      "display_name": "Python 3",
      "name": "python3"
    },
    "language_info": {
      "name": "python"
    },
    "widgets": {
      "application/vnd.jupyter.widget-state+json": {
        "8920c197d69342d188dda182b8fc155b": {
          "model_module": "@jupyter-widgets/controls",
          "model_name": "HBoxModel",
          "state": {
            "_view_name": "HBoxView",
            "_dom_classes": [],
            "_model_name": "HBoxModel",
            "_view_module": "@jupyter-widgets/controls",
            "_model_module_version": "1.5.0",
            "_view_count": null,
            "_view_module_version": "1.5.0",
            "box_style": "",
            "layout": "IPY_MODEL_b822a29ea4eb4080be72390784d9ca5b",
            "_model_module": "@jupyter-widgets/controls",
            "children": [
              "IPY_MODEL_b52a9465aaa74ac19c697392e72b2b23",
              "IPY_MODEL_7b0f465c06424bf38a040a1a6cd7db15"
            ]
          }
        },
        "b822a29ea4eb4080be72390784d9ca5b": {
          "model_module": "@jupyter-widgets/base",
          "model_name": "LayoutModel",
          "state": {
            "_view_name": "LayoutView",
            "grid_template_rows": null,
            "right": null,
            "justify_content": null,
            "_view_module": "@jupyter-widgets/base",
            "overflow": null,
            "_model_module_version": "1.2.0",
            "_view_count": null,
            "flex_flow": null,
            "width": null,
            "min_width": null,
            "border": null,
            "align_items": null,
            "bottom": null,
            "_model_module": "@jupyter-widgets/base",
            "top": null,
            "grid_column": null,
            "overflow_y": null,
            "overflow_x": null,
            "grid_auto_flow": null,
            "grid_area": null,
            "grid_template_columns": null,
            "flex": null,
            "_model_name": "LayoutModel",
            "justify_items": null,
            "grid_row": null,
            "max_height": null,
            "align_content": null,
            "visibility": null,
            "align_self": null,
            "height": null,
            "min_height": null,
            "padding": null,
            "grid_auto_rows": null,
            "grid_gap": null,
            "max_width": null,
            "order": null,
            "_view_module_version": "1.2.0",
            "grid_template_areas": null,
            "object_position": null,
            "object_fit": null,
            "grid_auto_columns": null,
            "margin": null,
            "display": null,
            "left": null
          }
        },
        "b52a9465aaa74ac19c697392e72b2b23": {
          "model_module": "@jupyter-widgets/controls",
          "model_name": "FloatProgressModel",
          "state": {
            "_view_name": "ProgressView",
            "style": "IPY_MODEL_b94d2bfe8fb843f1996770c8d6bf9103",
            "_dom_classes": [],
            "description": "Downloading: ",
            "_model_name": "FloatProgressModel",
            "bar_style": "success",
            "max": 2170,
            "_view_module": "@jupyter-widgets/controls",
            "_model_module_version": "1.5.0",
            "value": 2170,
            "_view_count": null,
            "_view_module_version": "1.5.0",
            "orientation": "horizontal",
            "min": 0,
            "description_tooltip": null,
            "_model_module": "@jupyter-widgets/controls",
            "layout": "IPY_MODEL_70ba3f6458ac48398068c82e7ab98cb8"
          }
        },
        "7b0f465c06424bf38a040a1a6cd7db15": {
          "model_module": "@jupyter-widgets/controls",
          "model_name": "HTMLModel",
          "state": {
            "_view_name": "HTMLView",
            "style": "IPY_MODEL_f9fd436d77bf44c9a06324a1c4f8719d",
            "_dom_classes": [],
            "description": "",
            "_model_name": "HTMLModel",
            "placeholder": "​",
            "_view_module": "@jupyter-widgets/controls",
            "_model_module_version": "1.5.0",
            "value": " 5.61k/? [00:00&lt;00:00, 114kB/s]",
            "_view_count": null,
            "_view_module_version": "1.5.0",
            "description_tooltip": null,
            "_model_module": "@jupyter-widgets/controls",
            "layout": "IPY_MODEL_c96ccef5e4194bf6bb0ce47995201da1"
          }
        },
        "b94d2bfe8fb843f1996770c8d6bf9103": {
          "model_module": "@jupyter-widgets/controls",
          "model_name": "ProgressStyleModel",
          "state": {
            "_view_name": "StyleView",
            "_model_name": "ProgressStyleModel",
            "description_width": "initial",
            "_view_module": "@jupyter-widgets/base",
            "_model_module_version": "1.5.0",
            "_view_count": null,
            "_view_module_version": "1.2.0",
            "bar_color": null,
            "_model_module": "@jupyter-widgets/controls"
          }
        },
        "70ba3f6458ac48398068c82e7ab98cb8": {
          "model_module": "@jupyter-widgets/base",
          "model_name": "LayoutModel",
          "state": {
            "_view_name": "LayoutView",
            "grid_template_rows": null,
            "right": null,
            "justify_content": null,
            "_view_module": "@jupyter-widgets/base",
            "overflow": null,
            "_model_module_version": "1.2.0",
            "_view_count": null,
            "flex_flow": null,
            "width": null,
            "min_width": null,
            "border": null,
            "align_items": null,
            "bottom": null,
            "_model_module": "@jupyter-widgets/base",
            "top": null,
            "grid_column": null,
            "overflow_y": null,
            "overflow_x": null,
            "grid_auto_flow": null,
            "grid_area": null,
            "grid_template_columns": null,
            "flex": null,
            "_model_name": "LayoutModel",
            "justify_items": null,
            "grid_row": null,
            "max_height": null,
            "align_content": null,
            "visibility": null,
            "align_self": null,
            "height": null,
            "min_height": null,
            "padding": null,
            "grid_auto_rows": null,
            "grid_gap": null,
            "max_width": null,
            "order": null,
            "_view_module_version": "1.2.0",
            "grid_template_areas": null,
            "object_position": null,
            "object_fit": null,
            "grid_auto_columns": null,
            "margin": null,
            "display": null,
            "left": null
          }
        },
        "f9fd436d77bf44c9a06324a1c4f8719d": {
          "model_module": "@jupyter-widgets/controls",
          "model_name": "DescriptionStyleModel",
          "state": {
            "_view_name": "StyleView",
            "_model_name": "DescriptionStyleModel",
            "description_width": "",
            "_view_module": "@jupyter-widgets/base",
            "_model_module_version": "1.5.0",
            "_view_count": null,
            "_view_module_version": "1.2.0",
            "_model_module": "@jupyter-widgets/controls"
          }
        },
        "c96ccef5e4194bf6bb0ce47995201da1": {
          "model_module": "@jupyter-widgets/base",
          "model_name": "LayoutModel",
          "state": {
            "_view_name": "LayoutView",
            "grid_template_rows": null,
            "right": null,
            "justify_content": null,
            "_view_module": "@jupyter-widgets/base",
            "overflow": null,
            "_model_module_version": "1.2.0",
            "_view_count": null,
            "flex_flow": null,
            "width": null,
            "min_width": null,
            "border": null,
            "align_items": null,
            "bottom": null,
            "_model_module": "@jupyter-widgets/base",
            "top": null,
            "grid_column": null,
            "overflow_y": null,
            "overflow_x": null,
            "grid_auto_flow": null,
            "grid_area": null,
            "grid_template_columns": null,
            "flex": null,
            "_model_name": "LayoutModel",
            "justify_items": null,
            "grid_row": null,
            "max_height": null,
            "align_content": null,
            "visibility": null,
            "align_self": null,
            "height": null,
            "min_height": null,
            "padding": null,
            "grid_auto_rows": null,
            "grid_gap": null,
            "max_width": null,
            "order": null,
            "_view_module_version": "1.2.0",
            "grid_template_areas": null,
            "object_position": null,
            "object_fit": null,
            "grid_auto_columns": null,
            "margin": null,
            "display": null,
            "left": null
          }
        },
        "aff037a9457c431793243483644b50d3": {
          "model_module": "@jupyter-widgets/controls",
          "model_name": "HBoxModel",
          "state": {
            "_view_name": "HBoxView",
            "_dom_classes": [],
            "_model_name": "HBoxModel",
            "_view_module": "@jupyter-widgets/controls",
            "_model_module_version": "1.5.0",
            "_view_count": null,
            "_view_module_version": "1.5.0",
            "box_style": "",
            "layout": "IPY_MODEL_75675cc212ee4c80a9cb711e5324bdf8",
            "_model_module": "@jupyter-widgets/controls",
            "children": [
              "IPY_MODEL_b0ab7ebb04b4497aadb48a4956118fec",
              "IPY_MODEL_6b248e5a76c84507850af50e1f90a53a"
            ]
          }
        },
        "75675cc212ee4c80a9cb711e5324bdf8": {
          "model_module": "@jupyter-widgets/base",
          "model_name": "LayoutModel",
          "state": {
            "_view_name": "LayoutView",
            "grid_template_rows": null,
            "right": null,
            "justify_content": null,
            "_view_module": "@jupyter-widgets/base",
            "overflow": null,
            "_model_module_version": "1.2.0",
            "_view_count": null,
            "flex_flow": null,
            "width": null,
            "min_width": null,
            "border": null,
            "align_items": null,
            "bottom": null,
            "_model_module": "@jupyter-widgets/base",
            "top": null,
            "grid_column": null,
            "overflow_y": null,
            "overflow_x": null,
            "grid_auto_flow": null,
            "grid_area": null,
            "grid_template_columns": null,
            "flex": null,
            "_model_name": "LayoutModel",
            "justify_items": null,
            "grid_row": null,
            "max_height": null,
            "align_content": null,
            "visibility": null,
            "align_self": null,
            "height": null,
            "min_height": null,
            "padding": null,
            "grid_auto_rows": null,
            "grid_gap": null,
            "max_width": null,
            "order": null,
            "_view_module_version": "1.2.0",
            "grid_template_areas": null,
            "object_position": null,
            "object_fit": null,
            "grid_auto_columns": null,
            "margin": null,
            "display": null,
            "left": null
          }
        },
        "b0ab7ebb04b4497aadb48a4956118fec": {
          "model_module": "@jupyter-widgets/controls",
          "model_name": "FloatProgressModel",
          "state": {
            "_view_name": "ProgressView",
            "style": "IPY_MODEL_69d7cf73748f4a719a2d1092e10fc56c",
            "_dom_classes": [],
            "description": "Downloading: 100%",
            "_model_name": "FloatProgressModel",
            "bar_style": "success",
            "max": 553,
            "_view_module": "@jupyter-widgets/controls",
            "_model_module_version": "1.5.0",
            "value": 553,
            "_view_count": null,
            "_view_module_version": "1.5.0",
            "orientation": "horizontal",
            "min": 0,
            "description_tooltip": null,
            "_model_module": "@jupyter-widgets/controls",
            "layout": "IPY_MODEL_7b0621f4f5cc4fd1b917b5827f35328b"
          }
        },
        "6b248e5a76c84507850af50e1f90a53a": {
          "model_module": "@jupyter-widgets/controls",
          "model_name": "HTMLModel",
          "state": {
            "_view_name": "HTMLView",
            "style": "IPY_MODEL_bd2a0f1d1d194e7e8f01baf2d083f0be",
            "_dom_classes": [],
            "description": "",
            "_model_name": "HTMLModel",
            "placeholder": "​",
            "_view_module": "@jupyter-widgets/controls",
            "_model_module_version": "1.5.0",
            "value": " 553/553 [00:01&lt;00:00, 512B/s]",
            "_view_count": null,
            "_view_module_version": "1.5.0",
            "description_tooltip": null,
            "_model_module": "@jupyter-widgets/controls",
            "layout": "IPY_MODEL_9b0d447d949e4c33be7689a9585679e5"
          }
        },
        "69d7cf73748f4a719a2d1092e10fc56c": {
          "model_module": "@jupyter-widgets/controls",
          "model_name": "ProgressStyleModel",
          "state": {
            "_view_name": "StyleView",
            "_model_name": "ProgressStyleModel",
            "description_width": "initial",
            "_view_module": "@jupyter-widgets/base",
            "_model_module_version": "1.5.0",
            "_view_count": null,
            "_view_module_version": "1.2.0",
            "bar_color": null,
            "_model_module": "@jupyter-widgets/controls"
          }
        },
        "7b0621f4f5cc4fd1b917b5827f35328b": {
          "model_module": "@jupyter-widgets/base",
          "model_name": "LayoutModel",
          "state": {
            "_view_name": "LayoutView",
            "grid_template_rows": null,
            "right": null,
            "justify_content": null,
            "_view_module": "@jupyter-widgets/base",
            "overflow": null,
            "_model_module_version": "1.2.0",
            "_view_count": null,
            "flex_flow": null,
            "width": null,
            "min_width": null,
            "border": null,
            "align_items": null,
            "bottom": null,
            "_model_module": "@jupyter-widgets/base",
            "top": null,
            "grid_column": null,
            "overflow_y": null,
            "overflow_x": null,
            "grid_auto_flow": null,
            "grid_area": null,
            "grid_template_columns": null,
            "flex": null,
            "_model_name": "LayoutModel",
            "justify_items": null,
            "grid_row": null,
            "max_height": null,
            "align_content": null,
            "visibility": null,
            "align_self": null,
            "height": null,
            "min_height": null,
            "padding": null,
            "grid_auto_rows": null,
            "grid_gap": null,
            "max_width": null,
            "order": null,
            "_view_module_version": "1.2.0",
            "grid_template_areas": null,
            "object_position": null,
            "object_fit": null,
            "grid_auto_columns": null,
            "margin": null,
            "display": null,
            "left": null
          }
        },
        "bd2a0f1d1d194e7e8f01baf2d083f0be": {
          "model_module": "@jupyter-widgets/controls",
          "model_name": "DescriptionStyleModel",
          "state": {
            "_view_name": "StyleView",
            "_model_name": "DescriptionStyleModel",
            "description_width": "",
            "_view_module": "@jupyter-widgets/base",
            "_model_module_version": "1.5.0",
            "_view_count": null,
            "_view_module_version": "1.2.0",
            "_model_module": "@jupyter-widgets/controls"
          }
        },
        "9b0d447d949e4c33be7689a9585679e5": {
          "model_module": "@jupyter-widgets/base",
          "model_name": "LayoutModel",
          "state": {
            "_view_name": "LayoutView",
            "grid_template_rows": null,
            "right": null,
            "justify_content": null,
            "_view_module": "@jupyter-widgets/base",
            "overflow": null,
            "_model_module_version": "1.2.0",
            "_view_count": null,
            "flex_flow": null,
            "width": null,
            "min_width": null,
            "border": null,
            "align_items": null,
            "bottom": null,
            "_model_module": "@jupyter-widgets/base",
            "top": null,
            "grid_column": null,
            "overflow_y": null,
            "overflow_x": null,
            "grid_auto_flow": null,
            "grid_area": null,
            "grid_template_columns": null,
            "flex": null,
            "_model_name": "LayoutModel",
            "justify_items": null,
            "grid_row": null,
            "max_height": null,
            "align_content": null,
            "visibility": null,
            "align_self": null,
            "height": null,
            "min_height": null,
            "padding": null,
            "grid_auto_rows": null,
            "grid_gap": null,
            "max_width": null,
            "order": null,
            "_view_module_version": "1.2.0",
            "grid_template_areas": null,
            "object_position": null,
            "object_fit": null,
            "grid_auto_columns": null,
            "margin": null,
            "display": null,
            "left": null
          }
        },
        "4826a8f6bf4a46f5ae3bc27eb007c948": {
          "model_module": "@jupyter-widgets/controls",
          "model_name": "HBoxModel",
          "state": {
            "_view_name": "HBoxView",
            "_dom_classes": [],
            "_model_name": "HBoxModel",
            "_view_module": "@jupyter-widgets/controls",
            "_model_module_version": "1.5.0",
            "_view_count": null,
            "_view_module_version": "1.5.0",
            "box_style": "",
            "layout": "IPY_MODEL_2505c012635846caa1b60d21ab2b4171",
            "_model_module": "@jupyter-widgets/controls",
            "children": [
              "IPY_MODEL_f65666e8572b43bcac60f0a5024e81fd",
              "IPY_MODEL_0c1a396cd4d34042897aaaee40e23715"
            ]
          }
        },
        "2505c012635846caa1b60d21ab2b4171": {
          "model_module": "@jupyter-widgets/base",
          "model_name": "LayoutModel",
          "state": {
            "_view_name": "LayoutView",
            "grid_template_rows": null,
            "right": null,
            "justify_content": null,
            "_view_module": "@jupyter-widgets/base",
            "overflow": null,
            "_model_module_version": "1.2.0",
            "_view_count": null,
            "flex_flow": null,
            "width": null,
            "min_width": null,
            "border": null,
            "align_items": null,
            "bottom": null,
            "_model_module": "@jupyter-widgets/base",
            "top": null,
            "grid_column": null,
            "overflow_y": null,
            "overflow_x": null,
            "grid_auto_flow": null,
            "grid_area": null,
            "grid_template_columns": null,
            "flex": null,
            "_model_name": "LayoutModel",
            "justify_items": null,
            "grid_row": null,
            "max_height": null,
            "align_content": null,
            "visibility": null,
            "align_self": null,
            "height": null,
            "min_height": null,
            "padding": null,
            "grid_auto_rows": null,
            "grid_gap": null,
            "max_width": null,
            "order": null,
            "_view_module_version": "1.2.0",
            "grid_template_areas": null,
            "object_position": null,
            "object_fit": null,
            "grid_auto_columns": null,
            "margin": null,
            "display": null,
            "left": null
          }
        },
        "f65666e8572b43bcac60f0a5024e81fd": {
          "model_module": "@jupyter-widgets/controls",
          "model_name": "FloatProgressModel",
          "state": {
            "_view_name": "ProgressView",
            "style": "IPY_MODEL_1aed2531f87844fc9a1bdda3038e179a",
            "_dom_classes": [],
            "description": "Downloading: 100%",
            "_model_name": "FloatProgressModel",
            "bar_style": "success",
            "max": 4309802,
            "_view_module": "@jupyter-widgets/controls",
            "_model_module_version": "1.5.0",
            "value": 4309802,
            "_view_count": null,
            "_view_module_version": "1.5.0",
            "orientation": "horizontal",
            "min": 0,
            "description_tooltip": null,
            "_model_module": "@jupyter-widgets/controls",
            "layout": "IPY_MODEL_ea3aad2429fe49dd86ab706e87cac2b4"
          }
        },
        "0c1a396cd4d34042897aaaee40e23715": {
          "model_module": "@jupyter-widgets/controls",
          "model_name": "HTMLModel",
          "state": {
            "_view_name": "HTMLView",
            "style": "IPY_MODEL_8263deec27c34dbf88dc0e85c921bfda",
            "_dom_classes": [],
            "description": "",
            "_model_name": "HTMLModel",
            "placeholder": "​",
            "_view_module": "@jupyter-widgets/controls",
            "_model_module_version": "1.5.0",
            "value": " 4.31M/4.31M [00:00&lt;00:00, 14.1MB/s]",
            "_view_count": null,
            "_view_module_version": "1.5.0",
            "description_tooltip": null,
            "_model_module": "@jupyter-widgets/controls",
            "layout": "IPY_MODEL_629f8c235f1b4b8cb52d77470a661668"
          }
        },
        "1aed2531f87844fc9a1bdda3038e179a": {
          "model_module": "@jupyter-widgets/controls",
          "model_name": "ProgressStyleModel",
          "state": {
            "_view_name": "StyleView",
            "_model_name": "ProgressStyleModel",
            "description_width": "initial",
            "_view_module": "@jupyter-widgets/base",
            "_model_module_version": "1.5.0",
            "_view_count": null,
            "_view_module_version": "1.2.0",
            "bar_color": null,
            "_model_module": "@jupyter-widgets/controls"
          }
        },
        "ea3aad2429fe49dd86ab706e87cac2b4": {
          "model_module": "@jupyter-widgets/base",
          "model_name": "LayoutModel",
          "state": {
            "_view_name": "LayoutView",
            "grid_template_rows": null,
            "right": null,
            "justify_content": null,
            "_view_module": "@jupyter-widgets/base",
            "overflow": null,
            "_model_module_version": "1.2.0",
            "_view_count": null,
            "flex_flow": null,
            "width": null,
            "min_width": null,
            "border": null,
            "align_items": null,
            "bottom": null,
            "_model_module": "@jupyter-widgets/base",
            "top": null,
            "grid_column": null,
            "overflow_y": null,
            "overflow_x": null,
            "grid_auto_flow": null,
            "grid_area": null,
            "grid_template_columns": null,
            "flex": null,
            "_model_name": "LayoutModel",
            "justify_items": null,
            "grid_row": null,
            "max_height": null,
            "align_content": null,
            "visibility": null,
            "align_self": null,
            "height": null,
            "min_height": null,
            "padding": null,
            "grid_auto_rows": null,
            "grid_gap": null,
            "max_width": null,
            "order": null,
            "_view_module_version": "1.2.0",
            "grid_template_areas": null,
            "object_position": null,
            "object_fit": null,
            "grid_auto_columns": null,
            "margin": null,
            "display": null,
            "left": null
          }
        },
        "8263deec27c34dbf88dc0e85c921bfda": {
          "model_module": "@jupyter-widgets/controls",
          "model_name": "DescriptionStyleModel",
          "state": {
            "_view_name": "StyleView",
            "_model_name": "DescriptionStyleModel",
            "description_width": "",
            "_view_module": "@jupyter-widgets/base",
            "_model_module_version": "1.5.0",
            "_view_count": null,
            "_view_module_version": "1.2.0",
            "_model_module": "@jupyter-widgets/controls"
          }
        },
        "629f8c235f1b4b8cb52d77470a661668": {
          "model_module": "@jupyter-widgets/base",
          "model_name": "LayoutModel",
          "state": {
            "_view_name": "LayoutView",
            "grid_template_rows": null,
            "right": null,
            "justify_content": null,
            "_view_module": "@jupyter-widgets/base",
            "overflow": null,
            "_model_module_version": "1.2.0",
            "_view_count": null,
            "flex_flow": null,
            "width": null,
            "min_width": null,
            "border": null,
            "align_items": null,
            "bottom": null,
            "_model_module": "@jupyter-widgets/base",
            "top": null,
            "grid_column": null,
            "overflow_y": null,
            "overflow_x": null,
            "grid_auto_flow": null,
            "grid_area": null,
            "grid_template_columns": null,
            "flex": null,
            "_model_name": "LayoutModel",
            "justify_items": null,
            "grid_row": null,
            "max_height": null,
            "align_content": null,
            "visibility": null,
            "align_self": null,
            "height": null,
            "min_height": null,
            "padding": null,
            "grid_auto_rows": null,
            "grid_gap": null,
            "max_width": null,
            "order": null,
            "_view_module_version": "1.2.0",
            "grid_template_areas": null,
            "object_position": null,
            "object_fit": null,
            "grid_auto_columns": null,
            "margin": null,
            "display": null,
            "left": null
          }
        },
        "d8784d57e41a4c30b73996a8eda3c4a3": {
          "model_module": "@jupyter-widgets/controls",
          "model_name": "HBoxModel",
          "state": {
            "_view_name": "HBoxView",
            "_dom_classes": [],
            "_model_name": "HBoxModel",
            "_view_module": "@jupyter-widgets/controls",
            "_model_module_version": "1.5.0",
            "_view_count": null,
            "_view_module_version": "1.5.0",
            "box_style": "",
            "layout": "IPY_MODEL_107fce162d5b41d1b0f90af46b767cd6",
            "_model_module": "@jupyter-widgets/controls",
            "children": [
              "IPY_MODEL_6cdf313610e6487ebfdd96fb13d7c2a0",
              "IPY_MODEL_31d308a9878548b68503f03e363d81a3"
            ]
          }
        },
        "107fce162d5b41d1b0f90af46b767cd6": {
          "model_module": "@jupyter-widgets/base",
          "model_name": "LayoutModel",
          "state": {
            "_view_name": "LayoutView",
            "grid_template_rows": null,
            "right": null,
            "justify_content": null,
            "_view_module": "@jupyter-widgets/base",
            "overflow": null,
            "_model_module_version": "1.2.0",
            "_view_count": null,
            "flex_flow": null,
            "width": null,
            "min_width": null,
            "border": null,
            "align_items": null,
            "bottom": null,
            "_model_module": "@jupyter-widgets/base",
            "top": null,
            "grid_column": null,
            "overflow_y": null,
            "overflow_x": null,
            "grid_auto_flow": null,
            "grid_area": null,
            "grid_template_columns": null,
            "flex": null,
            "_model_name": "LayoutModel",
            "justify_items": null,
            "grid_row": null,
            "max_height": null,
            "align_content": null,
            "visibility": null,
            "align_self": null,
            "height": null,
            "min_height": null,
            "padding": null,
            "grid_auto_rows": null,
            "grid_gap": null,
            "max_width": null,
            "order": null,
            "_view_module_version": "1.2.0",
            "grid_template_areas": null,
            "object_position": null,
            "object_fit": null,
            "grid_auto_columns": null,
            "margin": null,
            "display": null,
            "left": null
          }
        },
        "6cdf313610e6487ebfdd96fb13d7c2a0": {
          "model_module": "@jupyter-widgets/controls",
          "model_name": "FloatProgressModel",
          "state": {
            "_view_name": "ProgressView",
            "style": "IPY_MODEL_d193a65137b743ffba4b810951bfa92b",
            "_dom_classes": [],
            "description": "Downloading: 100%",
            "_model_name": "FloatProgressModel",
            "bar_style": "success",
            "max": 99,
            "_view_module": "@jupyter-widgets/controls",
            "_model_module_version": "1.5.0",
            "value": 99,
            "_view_count": null,
            "_view_module_version": "1.5.0",
            "orientation": "horizontal",
            "min": 0,
            "description_tooltip": null,
            "_model_module": "@jupyter-widgets/controls",
            "layout": "IPY_MODEL_86516de545fc4b488da2a754e538ec89"
          }
        },
        "31d308a9878548b68503f03e363d81a3": {
          "model_module": "@jupyter-widgets/controls",
          "model_name": "HTMLModel",
          "state": {
            "_view_name": "HTMLView",
            "style": "IPY_MODEL_4e5c21646f6f46ff8f3a8138ba74dcfd",
            "_dom_classes": [],
            "description": "",
            "_model_name": "HTMLModel",
            "placeholder": "​",
            "_view_module": "@jupyter-widgets/controls",
            "_model_module_version": "1.5.0",
            "value": " 99.0/99.0 [00:00&lt;00:00, 1.44kB/s]",
            "_view_count": null,
            "_view_module_version": "1.5.0",
            "description_tooltip": null,
            "_model_module": "@jupyter-widgets/controls",
            "layout": "IPY_MODEL_4667804a2f3c4690a24d5a025080301f"
          }
        },
        "d193a65137b743ffba4b810951bfa92b": {
          "model_module": "@jupyter-widgets/controls",
          "model_name": "ProgressStyleModel",
          "state": {
            "_view_name": "StyleView",
            "_model_name": "ProgressStyleModel",
            "description_width": "initial",
            "_view_module": "@jupyter-widgets/base",
            "_model_module_version": "1.5.0",
            "_view_count": null,
            "_view_module_version": "1.2.0",
            "bar_color": null,
            "_model_module": "@jupyter-widgets/controls"
          }
        },
        "86516de545fc4b488da2a754e538ec89": {
          "model_module": "@jupyter-widgets/base",
          "model_name": "LayoutModel",
          "state": {
            "_view_name": "LayoutView",
            "grid_template_rows": null,
            "right": null,
            "justify_content": null,
            "_view_module": "@jupyter-widgets/base",
            "overflow": null,
            "_model_module_version": "1.2.0",
            "_view_count": null,
            "flex_flow": null,
            "width": null,
            "min_width": null,
            "border": null,
            "align_items": null,
            "bottom": null,
            "_model_module": "@jupyter-widgets/base",
            "top": null,
            "grid_column": null,
            "overflow_y": null,
            "overflow_x": null,
            "grid_auto_flow": null,
            "grid_area": null,
            "grid_template_columns": null,
            "flex": null,
            "_model_name": "LayoutModel",
            "justify_items": null,
            "grid_row": null,
            "max_height": null,
            "align_content": null,
            "visibility": null,
            "align_self": null,
            "height": null,
            "min_height": null,
            "padding": null,
            "grid_auto_rows": null,
            "grid_gap": null,
            "max_width": null,
            "order": null,
            "_view_module_version": "1.2.0",
            "grid_template_areas": null,
            "object_position": null,
            "object_fit": null,
            "grid_auto_columns": null,
            "margin": null,
            "display": null,
            "left": null
          }
        },
        "4e5c21646f6f46ff8f3a8138ba74dcfd": {
          "model_module": "@jupyter-widgets/controls",
          "model_name": "DescriptionStyleModel",
          "state": {
            "_view_name": "StyleView",
            "_model_name": "DescriptionStyleModel",
            "description_width": "",
            "_view_module": "@jupyter-widgets/base",
            "_model_module_version": "1.5.0",
            "_view_count": null,
            "_view_module_version": "1.2.0",
            "_model_module": "@jupyter-widgets/controls"
          }
        },
        "4667804a2f3c4690a24d5a025080301f": {
          "model_module": "@jupyter-widgets/base",
          "model_name": "LayoutModel",
          "state": {
            "_view_name": "LayoutView",
            "grid_template_rows": null,
            "right": null,
            "justify_content": null,
            "_view_module": "@jupyter-widgets/base",
            "overflow": null,
            "_model_module_version": "1.2.0",
            "_view_count": null,
            "flex_flow": null,
            "width": null,
            "min_width": null,
            "border": null,
            "align_items": null,
            "bottom": null,
            "_model_module": "@jupyter-widgets/base",
            "top": null,
            "grid_column": null,
            "overflow_y": null,
            "overflow_x": null,
            "grid_auto_flow": null,
            "grid_area": null,
            "grid_template_columns": null,
            "flex": null,
            "_model_name": "LayoutModel",
            "justify_items": null,
            "grid_row": null,
            "max_height": null,
            "align_content": null,
            "visibility": null,
            "align_self": null,
            "height": null,
            "min_height": null,
            "padding": null,
            "grid_auto_rows": null,
            "grid_gap": null,
            "max_width": null,
            "order": null,
            "_view_module_version": "1.2.0",
            "grid_template_areas": null,
            "object_position": null,
            "object_fit": null,
            "grid_auto_columns": null,
            "margin": null,
            "display": null,
            "left": null
          }
        },
        "0b22d8d8a13e4b5c8899acd3a324747f": {
          "model_module": "@jupyter-widgets/controls",
          "model_name": "HBoxModel",
          "state": {
            "_view_name": "HBoxView",
            "_dom_classes": [],
            "_model_name": "HBoxModel",
            "_view_module": "@jupyter-widgets/controls",
            "_model_module_version": "1.5.0",
            "_view_count": null,
            "_view_module_version": "1.5.0",
            "box_style": "",
            "layout": "IPY_MODEL_44abff17ae1e47ffbaa2ad14e623a2fe",
            "_model_module": "@jupyter-widgets/controls",
            "children": [
              "IPY_MODEL_d93e202f22604ff79cd631216e498a19",
              "IPY_MODEL_b09ce436aaa244b2953a992215b14a71"
            ]
          }
        },
        "44abff17ae1e47ffbaa2ad14e623a2fe": {
          "model_module": "@jupyter-widgets/base",
          "model_name": "LayoutModel",
          "state": {
            "_view_name": "LayoutView",
            "grid_template_rows": null,
            "right": null,
            "justify_content": null,
            "_view_module": "@jupyter-widgets/base",
            "overflow": null,
            "_model_module_version": "1.2.0",
            "_view_count": null,
            "flex_flow": null,
            "width": null,
            "min_width": null,
            "border": null,
            "align_items": null,
            "bottom": null,
            "_model_module": "@jupyter-widgets/base",
            "top": null,
            "grid_column": null,
            "overflow_y": null,
            "overflow_x": null,
            "grid_auto_flow": null,
            "grid_area": null,
            "grid_template_columns": null,
            "flex": null,
            "_model_name": "LayoutModel",
            "justify_items": null,
            "grid_row": null,
            "max_height": null,
            "align_content": null,
            "visibility": null,
            "align_self": null,
            "height": null,
            "min_height": null,
            "padding": null,
            "grid_auto_rows": null,
            "grid_gap": null,
            "max_width": null,
            "order": null,
            "_view_module_version": "1.2.0",
            "grid_template_areas": null,
            "object_position": null,
            "object_fit": null,
            "grid_auto_columns": null,
            "margin": null,
            "display": null,
            "left": null
          }
        },
        "d93e202f22604ff79cd631216e498a19": {
          "model_module": "@jupyter-widgets/controls",
          "model_name": "FloatProgressModel",
          "state": {
            "_view_name": "ProgressView",
            "style": "IPY_MODEL_efa10a45a35e4b82ab3c3e8e1f86006d",
            "_dom_classes": [],
            "description": "Downloading: 100%",
            "_model_name": "FloatProgressModel",
            "bar_style": "success",
            "max": 82,
            "_view_module": "@jupyter-widgets/controls",
            "_model_module_version": "1.5.0",
            "value": 82,
            "_view_count": null,
            "_view_module_version": "1.5.0",
            "orientation": "horizontal",
            "min": 0,
            "description_tooltip": null,
            "_model_module": "@jupyter-widgets/controls",
            "layout": "IPY_MODEL_7809ae99ae484f6b92a815d9bd685915"
          }
        },
        "b09ce436aaa244b2953a992215b14a71": {
          "model_module": "@jupyter-widgets/controls",
          "model_name": "HTMLModel",
          "state": {
            "_view_name": "HTMLView",
            "style": "IPY_MODEL_e02bfd41b5ab4253bda411b5e3d7f615",
            "_dom_classes": [],
            "description": "",
            "_model_name": "HTMLModel",
            "placeholder": "​",
            "_view_module": "@jupyter-widgets/controls",
            "_model_module_version": "1.5.0",
            "value": " 82.0/82.0 [00:00&lt;00:00, 134B/s]",
            "_view_count": null,
            "_view_module_version": "1.5.0",
            "description_tooltip": null,
            "_model_module": "@jupyter-widgets/controls",
            "layout": "IPY_MODEL_5efac9069b5844978c29815aaa2838bf"
          }
        },
        "efa10a45a35e4b82ab3c3e8e1f86006d": {
          "model_module": "@jupyter-widgets/controls",
          "model_name": "ProgressStyleModel",
          "state": {
            "_view_name": "StyleView",
            "_model_name": "ProgressStyleModel",
            "description_width": "initial",
            "_view_module": "@jupyter-widgets/base",
            "_model_module_version": "1.5.0",
            "_view_count": null,
            "_view_module_version": "1.2.0",
            "bar_color": null,
            "_model_module": "@jupyter-widgets/controls"
          }
        },
        "7809ae99ae484f6b92a815d9bd685915": {
          "model_module": "@jupyter-widgets/base",
          "model_name": "LayoutModel",
          "state": {
            "_view_name": "LayoutView",
            "grid_template_rows": null,
            "right": null,
            "justify_content": null,
            "_view_module": "@jupyter-widgets/base",
            "overflow": null,
            "_model_module_version": "1.2.0",
            "_view_count": null,
            "flex_flow": null,
            "width": null,
            "min_width": null,
            "border": null,
            "align_items": null,
            "bottom": null,
            "_model_module": "@jupyter-widgets/base",
            "top": null,
            "grid_column": null,
            "overflow_y": null,
            "overflow_x": null,
            "grid_auto_flow": null,
            "grid_area": null,
            "grid_template_columns": null,
            "flex": null,
            "_model_name": "LayoutModel",
            "justify_items": null,
            "grid_row": null,
            "max_height": null,
            "align_content": null,
            "visibility": null,
            "align_self": null,
            "height": null,
            "min_height": null,
            "padding": null,
            "grid_auto_rows": null,
            "grid_gap": null,
            "max_width": null,
            "order": null,
            "_view_module_version": "1.2.0",
            "grid_template_areas": null,
            "object_position": null,
            "object_fit": null,
            "grid_auto_columns": null,
            "margin": null,
            "display": null,
            "left": null
          }
        },
        "e02bfd41b5ab4253bda411b5e3d7f615": {
          "model_module": "@jupyter-widgets/controls",
          "model_name": "DescriptionStyleModel",
          "state": {
            "_view_name": "StyleView",
            "_model_name": "DescriptionStyleModel",
            "description_width": "",
            "_view_module": "@jupyter-widgets/base",
            "_model_module_version": "1.5.0",
            "_view_count": null,
            "_view_module_version": "1.2.0",
            "_model_module": "@jupyter-widgets/controls"
          }
        },
        "5efac9069b5844978c29815aaa2838bf": {
          "model_module": "@jupyter-widgets/base",
          "model_name": "LayoutModel",
          "state": {
            "_view_name": "LayoutView",
            "grid_template_rows": null,
            "right": null,
            "justify_content": null,
            "_view_module": "@jupyter-widgets/base",
            "overflow": null,
            "_model_module_version": "1.2.0",
            "_view_count": null,
            "flex_flow": null,
            "width": null,
            "min_width": null,
            "border": null,
            "align_items": null,
            "bottom": null,
            "_model_module": "@jupyter-widgets/base",
            "top": null,
            "grid_column": null,
            "overflow_y": null,
            "overflow_x": null,
            "grid_auto_flow": null,
            "grid_area": null,
            "grid_template_columns": null,
            "flex": null,
            "_model_name": "LayoutModel",
            "justify_items": null,
            "grid_row": null,
            "max_height": null,
            "align_content": null,
            "visibility": null,
            "align_self": null,
            "height": null,
            "min_height": null,
            "padding": null,
            "grid_auto_rows": null,
            "grid_gap": null,
            "max_width": null,
            "order": null,
            "_view_module_version": "1.2.0",
            "grid_template_areas": null,
            "object_position": null,
            "object_fit": null,
            "grid_auto_columns": null,
            "margin": null,
            "display": null,
            "left": null
          }
        },
        "aa6503e120894b11be9b8c3eed6624f5": {
          "model_module": "@jupyter-widgets/controls",
          "model_name": "HBoxModel",
          "state": {
            "_view_name": "HBoxView",
            "_dom_classes": [],
            "_model_name": "HBoxModel",
            "_view_module": "@jupyter-widgets/controls",
            "_model_module_version": "1.5.0",
            "_view_count": null,
            "_view_module_version": "1.5.0",
            "box_style": "",
            "layout": "IPY_MODEL_d6543881878648fa892129c60cca9b69",
            "_model_module": "@jupyter-widgets/controls",
            "children": [
              "IPY_MODEL_c5e868b12e4848d6a48fc27a7ebaa7ad",
              "IPY_MODEL_e77544025ca54cd8b4f37ddceae803a7"
            ]
          }
        },
        "d6543881878648fa892129c60cca9b69": {
          "model_module": "@jupyter-widgets/base",
          "model_name": "LayoutModel",
          "state": {
            "_view_name": "LayoutView",
            "grid_template_rows": null,
            "right": null,
            "justify_content": null,
            "_view_module": "@jupyter-widgets/base",
            "overflow": null,
            "_model_module_version": "1.2.0",
            "_view_count": null,
            "flex_flow": null,
            "width": null,
            "min_width": null,
            "border": null,
            "align_items": null,
            "bottom": null,
            "_model_module": "@jupyter-widgets/base",
            "top": null,
            "grid_column": null,
            "overflow_y": null,
            "overflow_x": null,
            "grid_auto_flow": null,
            "grid_area": null,
            "grid_template_columns": null,
            "flex": null,
            "_model_name": "LayoutModel",
            "justify_items": null,
            "grid_row": null,
            "max_height": null,
            "align_content": null,
            "visibility": null,
            "align_self": null,
            "height": null,
            "min_height": null,
            "padding": null,
            "grid_auto_rows": null,
            "grid_gap": null,
            "max_width": null,
            "order": null,
            "_view_module_version": "1.2.0",
            "grid_template_areas": null,
            "object_position": null,
            "object_fit": null,
            "grid_auto_columns": null,
            "margin": null,
            "display": null,
            "left": null
          }
        },
        "c5e868b12e4848d6a48fc27a7ebaa7ad": {
          "model_module": "@jupyter-widgets/controls",
          "model_name": "FloatProgressModel",
          "state": {
            "_view_name": "ProgressView",
            "style": "IPY_MODEL_45796ea794d34970a393039440a5d313",
            "_dom_classes": [],
            "description": "100%",
            "_model_name": "FloatProgressModel",
            "bar_style": "success",
            "max": 53,
            "_view_module": "@jupyter-widgets/controls",
            "_model_module_version": "1.5.0",
            "value": 53,
            "_view_count": null,
            "_view_module_version": "1.5.0",
            "orientation": "horizontal",
            "min": 0,
            "description_tooltip": null,
            "_model_module": "@jupyter-widgets/controls",
            "layout": "IPY_MODEL_320df6f62e51460aa58ccd28e55b20fe"
          }
        },
        "e77544025ca54cd8b4f37ddceae803a7": {
          "model_module": "@jupyter-widgets/controls",
          "model_name": "HTMLModel",
          "state": {
            "_view_name": "HTMLView",
            "style": "IPY_MODEL_aeebef9355b74739bb2876b946cb685a",
            "_dom_classes": [],
            "description": "",
            "_model_name": "HTMLModel",
            "placeholder": "​",
            "_view_module": "@jupyter-widgets/controls",
            "_model_module_version": "1.5.0",
            "value": " 53/53 [02:53&lt;00:00,  3.28s/ba]",
            "_view_count": null,
            "_view_module_version": "1.5.0",
            "description_tooltip": null,
            "_model_module": "@jupyter-widgets/controls",
            "layout": "IPY_MODEL_a7d4eb76f5fc49f1bd42e53cdfba15be"
          }
        },
        "45796ea794d34970a393039440a5d313": {
          "model_module": "@jupyter-widgets/controls",
          "model_name": "ProgressStyleModel",
          "state": {
            "_view_name": "StyleView",
            "_model_name": "ProgressStyleModel",
            "description_width": "initial",
            "_view_module": "@jupyter-widgets/base",
            "_model_module_version": "1.5.0",
            "_view_count": null,
            "_view_module_version": "1.2.0",
            "bar_color": null,
            "_model_module": "@jupyter-widgets/controls"
          }
        },
        "320df6f62e51460aa58ccd28e55b20fe": {
          "model_module": "@jupyter-widgets/base",
          "model_name": "LayoutModel",
          "state": {
            "_view_name": "LayoutView",
            "grid_template_rows": null,
            "right": null,
            "justify_content": null,
            "_view_module": "@jupyter-widgets/base",
            "overflow": null,
            "_model_module_version": "1.2.0",
            "_view_count": null,
            "flex_flow": null,
            "width": null,
            "min_width": null,
            "border": null,
            "align_items": null,
            "bottom": null,
            "_model_module": "@jupyter-widgets/base",
            "top": null,
            "grid_column": null,
            "overflow_y": null,
            "overflow_x": null,
            "grid_auto_flow": null,
            "grid_area": null,
            "grid_template_columns": null,
            "flex": null,
            "_model_name": "LayoutModel",
            "justify_items": null,
            "grid_row": null,
            "max_height": null,
            "align_content": null,
            "visibility": null,
            "align_self": null,
            "height": null,
            "min_height": null,
            "padding": null,
            "grid_auto_rows": null,
            "grid_gap": null,
            "max_width": null,
            "order": null,
            "_view_module_version": "1.2.0",
            "grid_template_areas": null,
            "object_position": null,
            "object_fit": null,
            "grid_auto_columns": null,
            "margin": null,
            "display": null,
            "left": null
          }
        },
        "aeebef9355b74739bb2876b946cb685a": {
          "model_module": "@jupyter-widgets/controls",
          "model_name": "DescriptionStyleModel",
          "state": {
            "_view_name": "StyleView",
            "_model_name": "DescriptionStyleModel",
            "description_width": "",
            "_view_module": "@jupyter-widgets/base",
            "_model_module_version": "1.5.0",
            "_view_count": null,
            "_view_module_version": "1.2.0",
            "_model_module": "@jupyter-widgets/controls"
          }
        },
        "a7d4eb76f5fc49f1bd42e53cdfba15be": {
          "model_module": "@jupyter-widgets/base",
          "model_name": "LayoutModel",
          "state": {
            "_view_name": "LayoutView",
            "grid_template_rows": null,
            "right": null,
            "justify_content": null,
            "_view_module": "@jupyter-widgets/base",
            "overflow": null,
            "_model_module_version": "1.2.0",
            "_view_count": null,
            "flex_flow": null,
            "width": null,
            "min_width": null,
            "border": null,
            "align_items": null,
            "bottom": null,
            "_model_module": "@jupyter-widgets/base",
            "top": null,
            "grid_column": null,
            "overflow_y": null,
            "overflow_x": null,
            "grid_auto_flow": null,
            "grid_area": null,
            "grid_template_columns": null,
            "flex": null,
            "_model_name": "LayoutModel",
            "justify_items": null,
            "grid_row": null,
            "max_height": null,
            "align_content": null,
            "visibility": null,
            "align_self": null,
            "height": null,
            "min_height": null,
            "padding": null,
            "grid_auto_rows": null,
            "grid_gap": null,
            "max_width": null,
            "order": null,
            "_view_module_version": "1.2.0",
            "grid_template_areas": null,
            "object_position": null,
            "object_fit": null,
            "grid_auto_columns": null,
            "margin": null,
            "display": null,
            "left": null
          }
        },
        "fca20c747c4241258e20251af5dd02b9": {
          "model_module": "@jupyter-widgets/controls",
          "model_name": "HBoxModel",
          "state": {
            "_view_name": "HBoxView",
            "_dom_classes": [],
            "_model_name": "HBoxModel",
            "_view_module": "@jupyter-widgets/controls",
            "_model_module_version": "1.5.0",
            "_view_count": null,
            "_view_module_version": "1.5.0",
            "box_style": "",
            "layout": "IPY_MODEL_f782a547788a42e08805a11a684ddb76",
            "_model_module": "@jupyter-widgets/controls",
            "children": [
              "IPY_MODEL_e1a9730081b646edbc743d1e2659f3de",
              "IPY_MODEL_ffaae5be7e6e44759d537fe655728b47"
            ]
          }
        },
        "f782a547788a42e08805a11a684ddb76": {
          "model_module": "@jupyter-widgets/base",
          "model_name": "LayoutModel",
          "state": {
            "_view_name": "LayoutView",
            "grid_template_rows": null,
            "right": null,
            "justify_content": null,
            "_view_module": "@jupyter-widgets/base",
            "overflow": null,
            "_model_module_version": "1.2.0",
            "_view_count": null,
            "flex_flow": null,
            "width": null,
            "min_width": null,
            "border": null,
            "align_items": null,
            "bottom": null,
            "_model_module": "@jupyter-widgets/base",
            "top": null,
            "grid_column": null,
            "overflow_y": null,
            "overflow_x": null,
            "grid_auto_flow": null,
            "grid_area": null,
            "grid_template_columns": null,
            "flex": null,
            "_model_name": "LayoutModel",
            "justify_items": null,
            "grid_row": null,
            "max_height": null,
            "align_content": null,
            "visibility": null,
            "align_self": null,
            "height": null,
            "min_height": null,
            "padding": null,
            "grid_auto_rows": null,
            "grid_gap": null,
            "max_width": null,
            "order": null,
            "_view_module_version": "1.2.0",
            "grid_template_areas": null,
            "object_position": null,
            "object_fit": null,
            "grid_auto_columns": null,
            "margin": null,
            "display": null,
            "left": null
          }
        },
        "e1a9730081b646edbc743d1e2659f3de": {
          "model_module": "@jupyter-widgets/controls",
          "model_name": "FloatProgressModel",
          "state": {
            "_view_name": "ProgressView",
            "style": "IPY_MODEL_c5c4e91ee6fb406b979cfd3ea82c06e1",
            "_dom_classes": [],
            "description": "100%",
            "_model_name": "FloatProgressModel",
            "bar_style": "success",
            "max": 6,
            "_view_module": "@jupyter-widgets/controls",
            "_model_module_version": "1.5.0",
            "value": 6,
            "_view_count": null,
            "_view_module_version": "1.5.0",
            "orientation": "horizontal",
            "min": 0,
            "description_tooltip": null,
            "_model_module": "@jupyter-widgets/controls",
            "layout": "IPY_MODEL_9feb439c488e49e8a1a8b9820ad2397b"
          }
        },
        "ffaae5be7e6e44759d537fe655728b47": {
          "model_module": "@jupyter-widgets/controls",
          "model_name": "HTMLModel",
          "state": {
            "_view_name": "HTMLView",
            "style": "IPY_MODEL_a713fbc659f047eda3ecfe95d1533d34",
            "_dom_classes": [],
            "description": "",
            "_model_name": "HTMLModel",
            "placeholder": "​",
            "_view_module": "@jupyter-widgets/controls",
            "_model_module_version": "1.5.0",
            "value": " 6/6 [00:44&lt;00:00,  7.37s/ba]",
            "_view_count": null,
            "_view_module_version": "1.5.0",
            "description_tooltip": null,
            "_model_module": "@jupyter-widgets/controls",
            "layout": "IPY_MODEL_3d9adb484dee40c3a3e5c1ea5f03f01e"
          }
        },
        "c5c4e91ee6fb406b979cfd3ea82c06e1": {
          "model_module": "@jupyter-widgets/controls",
          "model_name": "ProgressStyleModel",
          "state": {
            "_view_name": "StyleView",
            "_model_name": "ProgressStyleModel",
            "description_width": "initial",
            "_view_module": "@jupyter-widgets/base",
            "_model_module_version": "1.5.0",
            "_view_count": null,
            "_view_module_version": "1.2.0",
            "bar_color": null,
            "_model_module": "@jupyter-widgets/controls"
          }
        },
        "9feb439c488e49e8a1a8b9820ad2397b": {
          "model_module": "@jupyter-widgets/base",
          "model_name": "LayoutModel",
          "state": {
            "_view_name": "LayoutView",
            "grid_template_rows": null,
            "right": null,
            "justify_content": null,
            "_view_module": "@jupyter-widgets/base",
            "overflow": null,
            "_model_module_version": "1.2.0",
            "_view_count": null,
            "flex_flow": null,
            "width": null,
            "min_width": null,
            "border": null,
            "align_items": null,
            "bottom": null,
            "_model_module": "@jupyter-widgets/base",
            "top": null,
            "grid_column": null,
            "overflow_y": null,
            "overflow_x": null,
            "grid_auto_flow": null,
            "grid_area": null,
            "grid_template_columns": null,
            "flex": null,
            "_model_name": "LayoutModel",
            "justify_items": null,
            "grid_row": null,
            "max_height": null,
            "align_content": null,
            "visibility": null,
            "align_self": null,
            "height": null,
            "min_height": null,
            "padding": null,
            "grid_auto_rows": null,
            "grid_gap": null,
            "max_width": null,
            "order": null,
            "_view_module_version": "1.2.0",
            "grid_template_areas": null,
            "object_position": null,
            "object_fit": null,
            "grid_auto_columns": null,
            "margin": null,
            "display": null,
            "left": null
          }
        },
        "a713fbc659f047eda3ecfe95d1533d34": {
          "model_module": "@jupyter-widgets/controls",
          "model_name": "DescriptionStyleModel",
          "state": {
            "_view_name": "StyleView",
            "_model_name": "DescriptionStyleModel",
            "description_width": "",
            "_view_module": "@jupyter-widgets/base",
            "_model_module_version": "1.5.0",
            "_view_count": null,
            "_view_module_version": "1.2.0",
            "_model_module": "@jupyter-widgets/controls"
          }
        },
        "3d9adb484dee40c3a3e5c1ea5f03f01e": {
          "model_module": "@jupyter-widgets/base",
          "model_name": "LayoutModel",
          "state": {
            "_view_name": "LayoutView",
            "grid_template_rows": null,
            "right": null,
            "justify_content": null,
            "_view_module": "@jupyter-widgets/base",
            "overflow": null,
            "_model_module_version": "1.2.0",
            "_view_count": null,
            "flex_flow": null,
            "width": null,
            "min_width": null,
            "border": null,
            "align_items": null,
            "bottom": null,
            "_model_module": "@jupyter-widgets/base",
            "top": null,
            "grid_column": null,
            "overflow_y": null,
            "overflow_x": null,
            "grid_auto_flow": null,
            "grid_area": null,
            "grid_template_columns": null,
            "flex": null,
            "_model_name": "LayoutModel",
            "justify_items": null,
            "grid_row": null,
            "max_height": null,
            "align_content": null,
            "visibility": null,
            "align_self": null,
            "height": null,
            "min_height": null,
            "padding": null,
            "grid_auto_rows": null,
            "grid_gap": null,
            "max_width": null,
            "order": null,
            "_view_module_version": "1.2.0",
            "grid_template_areas": null,
            "object_position": null,
            "object_fit": null,
            "grid_auto_columns": null,
            "margin": null,
            "display": null,
            "left": null
          }
        },
        "081ed38a30184155ade45c2c110feb74": {
          "model_module": "@jupyter-widgets/controls",
          "model_name": "HBoxModel",
          "state": {
            "_view_name": "HBoxView",
            "_dom_classes": [],
            "_model_name": "HBoxModel",
            "_view_module": "@jupyter-widgets/controls",
            "_model_module_version": "1.5.0",
            "_view_count": null,
            "_view_module_version": "1.5.0",
            "box_style": "",
            "layout": "IPY_MODEL_fc3f0ca1dd95489cb84863f43940e117",
            "_model_module": "@jupyter-widgets/controls",
            "children": [
              "IPY_MODEL_0291585fa21142fbb2670c68f6a86f3e",
              "IPY_MODEL_2d97c6c8e51e421b83a965681b130693"
            ]
          }
        },
        "fc3f0ca1dd95489cb84863f43940e117": {
          "model_module": "@jupyter-widgets/base",
          "model_name": "LayoutModel",
          "state": {
            "_view_name": "LayoutView",
            "grid_template_rows": null,
            "right": null,
            "justify_content": null,
            "_view_module": "@jupyter-widgets/base",
            "overflow": null,
            "_model_module_version": "1.2.0",
            "_view_count": null,
            "flex_flow": null,
            "width": null,
            "min_width": null,
            "border": null,
            "align_items": null,
            "bottom": null,
            "_model_module": "@jupyter-widgets/base",
            "top": null,
            "grid_column": null,
            "overflow_y": null,
            "overflow_x": null,
            "grid_auto_flow": null,
            "grid_area": null,
            "grid_template_columns": null,
            "flex": null,
            "_model_name": "LayoutModel",
            "justify_items": null,
            "grid_row": null,
            "max_height": null,
            "align_content": null,
            "visibility": null,
            "align_self": null,
            "height": null,
            "min_height": null,
            "padding": null,
            "grid_auto_rows": null,
            "grid_gap": null,
            "max_width": null,
            "order": null,
            "_view_module_version": "1.2.0",
            "grid_template_areas": null,
            "object_position": null,
            "object_fit": null,
            "grid_auto_columns": null,
            "margin": null,
            "display": null,
            "left": null
          }
        },
        "0291585fa21142fbb2670c68f6a86f3e": {
          "model_module": "@jupyter-widgets/controls",
          "model_name": "FloatProgressModel",
          "state": {
            "_view_name": "ProgressView",
            "style": "IPY_MODEL_d1024cd84e4b4fbb82b6fc00c4a9d592",
            "_dom_classes": [],
            "description": "Downloading: 100%",
            "_model_name": "FloatProgressModel",
            "bar_style": "success",
            "max": 1200794589,
            "_view_module": "@jupyter-widgets/controls",
            "_model_module_version": "1.5.0",
            "value": 1200794589,
            "_view_count": null,
            "_view_module_version": "1.5.0",
            "orientation": "horizontal",
            "min": 0,
            "description_tooltip": null,
            "_model_module": "@jupyter-widgets/controls",
            "layout": "IPY_MODEL_037f850e4933413280c568250898b7fc"
          }
        },
        "2d97c6c8e51e421b83a965681b130693": {
          "model_module": "@jupyter-widgets/controls",
          "model_name": "HTMLModel",
          "state": {
            "_view_name": "HTMLView",
            "style": "IPY_MODEL_26a97424a9fb48318d84608dfadf9d5f",
            "_dom_classes": [],
            "description": "",
            "_model_name": "HTMLModel",
            "placeholder": "​",
            "_view_module": "@jupyter-widgets/controls",
            "_model_module_version": "1.5.0",
            "value": " 1.20G/1.20G [00:23&lt;00:00, 50.3MB/s]",
            "_view_count": null,
            "_view_module_version": "1.5.0",
            "description_tooltip": null,
            "_model_module": "@jupyter-widgets/controls",
            "layout": "IPY_MODEL_64bcf398dd6f400298d34f78f305dced"
          }
        },
        "d1024cd84e4b4fbb82b6fc00c4a9d592": {
          "model_module": "@jupyter-widgets/controls",
          "model_name": "ProgressStyleModel",
          "state": {
            "_view_name": "StyleView",
            "_model_name": "ProgressStyleModel",
            "description_width": "initial",
            "_view_module": "@jupyter-widgets/base",
            "_model_module_version": "1.5.0",
            "_view_count": null,
            "_view_module_version": "1.2.0",
            "bar_color": null,
            "_model_module": "@jupyter-widgets/controls"
          }
        },
        "037f850e4933413280c568250898b7fc": {
          "model_module": "@jupyter-widgets/base",
          "model_name": "LayoutModel",
          "state": {
            "_view_name": "LayoutView",
            "grid_template_rows": null,
            "right": null,
            "justify_content": null,
            "_view_module": "@jupyter-widgets/base",
            "overflow": null,
            "_model_module_version": "1.2.0",
            "_view_count": null,
            "flex_flow": null,
            "width": null,
            "min_width": null,
            "border": null,
            "align_items": null,
            "bottom": null,
            "_model_module": "@jupyter-widgets/base",
            "top": null,
            "grid_column": null,
            "overflow_y": null,
            "overflow_x": null,
            "grid_auto_flow": null,
            "grid_area": null,
            "grid_template_columns": null,
            "flex": null,
            "_model_name": "LayoutModel",
            "justify_items": null,
            "grid_row": null,
            "max_height": null,
            "align_content": null,
            "visibility": null,
            "align_self": null,
            "height": null,
            "min_height": null,
            "padding": null,
            "grid_auto_rows": null,
            "grid_gap": null,
            "max_width": null,
            "order": null,
            "_view_module_version": "1.2.0",
            "grid_template_areas": null,
            "object_position": null,
            "object_fit": null,
            "grid_auto_columns": null,
            "margin": null,
            "display": null,
            "left": null
          }
        },
        "26a97424a9fb48318d84608dfadf9d5f": {
          "model_module": "@jupyter-widgets/controls",
          "model_name": "DescriptionStyleModel",
          "state": {
            "_view_name": "StyleView",
            "_model_name": "DescriptionStyleModel",
            "description_width": "",
            "_view_module": "@jupyter-widgets/base",
            "_model_module_version": "1.5.0",
            "_view_count": null,
            "_view_module_version": "1.2.0",
            "_model_module": "@jupyter-widgets/controls"
          }
        },
        "64bcf398dd6f400298d34f78f305dced": {
          "model_module": "@jupyter-widgets/base",
          "model_name": "LayoutModel",
          "state": {
            "_view_name": "LayoutView",
            "grid_template_rows": null,
            "right": null,
            "justify_content": null,
            "_view_module": "@jupyter-widgets/base",
            "overflow": null,
            "_model_module_version": "1.2.0",
            "_view_count": null,
            "flex_flow": null,
            "width": null,
            "min_width": null,
            "border": null,
            "align_items": null,
            "bottom": null,
            "_model_module": "@jupyter-widgets/base",
            "top": null,
            "grid_column": null,
            "overflow_y": null,
            "overflow_x": null,
            "grid_auto_flow": null,
            "grid_area": null,
            "grid_template_columns": null,
            "flex": null,
            "_model_name": "LayoutModel",
            "justify_items": null,
            "grid_row": null,
            "max_height": null,
            "align_content": null,
            "visibility": null,
            "align_self": null,
            "height": null,
            "min_height": null,
            "padding": null,
            "grid_auto_rows": null,
            "grid_gap": null,
            "max_width": null,
            "order": null,
            "_view_module_version": "1.2.0",
            "grid_template_areas": null,
            "object_position": null,
            "object_fit": null,
            "grid_auto_columns": null,
            "margin": null,
            "display": null,
            "left": null
          }
        }
      }
    }
  },
  "cells": [
    {
      "cell_type": "markdown",
      "metadata": {
        "id": "YNEBWSo1pXek"
      },
      "source": [
        "# **Experimento de generación de titulares**"
      ]
    },
    {
      "cell_type": "markdown",
      "metadata": {
        "id": "wyw1zJOYHBIg"
      },
      "source": [
        "# Prerrequisitos"
      ]
    },
    {
      "cell_type": "code",
      "metadata": {
        "colab": {
          "base_uri": "https://localhost:8080/"
        },
        "id": "MOsHUjgdIrIW",
        "outputId": "80b7243e-65f9-4c83-f137-eea56cab327a"
      },
      "source": [
        "# Se instalan los paquetes necesarios\n",
        "! pip install datasets transformers rouge-score nltk sentencepiece"
      ],
      "execution_count": null,
      "outputs": [
        {
          "output_type": "stream",
          "text": [
            "Collecting datasets\n",
            "\u001b[?25l  Downloading https://files.pythonhosted.org/packages/46/1a/b9f9b3bfef624686ae81c070f0a6bb635047b17cdb3698c7ad01281e6f9a/datasets-1.6.2-py3-none-any.whl (221kB)\n",
            "\u001b[K     |████████████████████████████████| 225kB 32.5MB/s \n",
            "\u001b[?25hCollecting transformers\n",
            "\u001b[?25l  Downloading https://files.pythonhosted.org/packages/b0/9e/5b80becd952d5f7250eaf8fc64b957077b12ccfe73e9c03d37146ab29712/transformers-4.6.0-py3-none-any.whl (2.3MB)\n",
            "\u001b[K     |████████████████████████████████| 2.3MB 48.2MB/s \n",
            "\u001b[?25hCollecting rouge-score\n",
            "  Downloading https://files.pythonhosted.org/packages/1f/56/a81022436c08b9405a5247b71635394d44fe7e1dbedc4b28c740e09c2840/rouge_score-0.0.4-py2.py3-none-any.whl\n",
            "Requirement already satisfied: nltk in /usr/local/lib/python3.7/dist-packages (3.2.5)\n",
            "Collecting sentencepiece\n",
            "\u001b[?25l  Downloading https://files.pythonhosted.org/packages/f5/99/e0808cb947ba10f575839c43e8fafc9cc44e4a7a2c8f79c60db48220a577/sentencepiece-0.1.95-cp37-cp37m-manylinux2014_x86_64.whl (1.2MB)\n",
            "\u001b[K     |████████████████████████████████| 1.2MB 45.8MB/s \n",
            "\u001b[?25hRequirement already satisfied: pandas in /usr/local/lib/python3.7/dist-packages (from datasets) (1.1.5)\n",
            "Requirement already satisfied: packaging in /usr/local/lib/python3.7/dist-packages (from datasets) (20.9)\n",
            "Requirement already satisfied: importlib-metadata; python_version < \"3.8\" in /usr/local/lib/python3.7/dist-packages (from datasets) (4.0.1)\n",
            "Collecting fsspec\n",
            "\u001b[?25l  Downloading https://files.pythonhosted.org/packages/bc/52/816d1a3a599176057bf29dfacb1f8fadb61d35fbd96cb1bab4aaa7df83c0/fsspec-2021.5.0-py3-none-any.whl (111kB)\n",
            "\u001b[K     |████████████████████████████████| 112kB 46.9MB/s \n",
            "\u001b[?25hRequirement already satisfied: numpy>=1.17 in /usr/local/lib/python3.7/dist-packages (from datasets) (1.19.5)\n",
            "Requirement already satisfied: pyarrow>=1.0.0<4.0.0 in /usr/local/lib/python3.7/dist-packages (from datasets) (3.0.0)\n",
            "Requirement already satisfied: dill in /usr/local/lib/python3.7/dist-packages (from datasets) (0.3.3)\n",
            "Collecting xxhash\n",
            "\u001b[?25l  Downloading https://files.pythonhosted.org/packages/7d/4f/0a862cad26aa2ed7a7cd87178cbbfa824fc1383e472d63596a0d018374e7/xxhash-2.0.2-cp37-cp37m-manylinux2010_x86_64.whl (243kB)\n",
            "\u001b[K     |████████████████████████████████| 245kB 53.0MB/s \n",
            "\u001b[?25hCollecting huggingface-hub<0.1.0\n",
            "  Downloading https://files.pythonhosted.org/packages/a1/88/7b1e45720ecf59c6c6737ff332f41c955963090a18e72acbcbeac6b25e86/huggingface_hub-0.0.8-py3-none-any.whl\n",
            "Requirement already satisfied: tqdm<4.50.0,>=4.27 in /usr/local/lib/python3.7/dist-packages (from datasets) (4.41.1)\n",
            "Requirement already satisfied: requests>=2.19.0 in /usr/local/lib/python3.7/dist-packages (from datasets) (2.23.0)\n",
            "Requirement already satisfied: multiprocess in /usr/local/lib/python3.7/dist-packages (from datasets) (0.70.11.1)\n",
            "Requirement already satisfied: filelock in /usr/local/lib/python3.7/dist-packages (from transformers) (3.0.12)\n",
            "Requirement already satisfied: regex!=2019.12.17 in /usr/local/lib/python3.7/dist-packages (from transformers) (2019.12.20)\n",
            "Collecting tokenizers<0.11,>=0.10.1\n",
            "\u001b[?25l  Downloading https://files.pythonhosted.org/packages/ae/04/5b870f26a858552025a62f1649c20d29d2672c02ff3c3fb4c688ca46467a/tokenizers-0.10.2-cp37-cp37m-manylinux2010_x86_64.whl (3.3MB)\n",
            "\u001b[K     |████████████████████████████████| 3.3MB 47.1MB/s \n",
            "\u001b[?25hCollecting sacremoses\n",
            "\u001b[?25l  Downloading https://files.pythonhosted.org/packages/75/ee/67241dc87f266093c533a2d4d3d69438e57d7a90abb216fa076e7d475d4a/sacremoses-0.0.45-py3-none-any.whl (895kB)\n",
            "\u001b[K     |████████████████████████████████| 901kB 33.3MB/s \n",
            "\u001b[?25hRequirement already satisfied: six>=1.14.0 in /usr/local/lib/python3.7/dist-packages (from rouge-score) (1.15.0)\n",
            "Requirement already satisfied: absl-py in /usr/local/lib/python3.7/dist-packages (from rouge-score) (0.12.0)\n",
            "Requirement already satisfied: python-dateutil>=2.7.3 in /usr/local/lib/python3.7/dist-packages (from pandas->datasets) (2.8.1)\n",
            "Requirement already satisfied: pytz>=2017.2 in /usr/local/lib/python3.7/dist-packages (from pandas->datasets) (2018.9)\n",
            "Requirement already satisfied: pyparsing>=2.0.2 in /usr/local/lib/python3.7/dist-packages (from packaging->datasets) (2.4.7)\n",
            "Requirement already satisfied: zipp>=0.5 in /usr/local/lib/python3.7/dist-packages (from importlib-metadata; python_version < \"3.8\"->datasets) (3.4.1)\n",
            "Requirement already satisfied: typing-extensions>=3.6.4; python_version < \"3.8\" in /usr/local/lib/python3.7/dist-packages (from importlib-metadata; python_version < \"3.8\"->datasets) (3.7.4.3)\n",
            "Requirement already satisfied: idna<3,>=2.5 in /usr/local/lib/python3.7/dist-packages (from requests>=2.19.0->datasets) (2.10)\n",
            "Requirement already satisfied: chardet<4,>=3.0.2 in /usr/local/lib/python3.7/dist-packages (from requests>=2.19.0->datasets) (3.0.4)\n",
            "Requirement already satisfied: certifi>=2017.4.17 in /usr/local/lib/python3.7/dist-packages (from requests>=2.19.0->datasets) (2020.12.5)\n",
            "Requirement already satisfied: urllib3!=1.25.0,!=1.25.1,<1.26,>=1.21.1 in /usr/local/lib/python3.7/dist-packages (from requests>=2.19.0->datasets) (1.24.3)\n",
            "Requirement already satisfied: joblib in /usr/local/lib/python3.7/dist-packages (from sacremoses->transformers) (1.0.1)\n",
            "Requirement already satisfied: click in /usr/local/lib/python3.7/dist-packages (from sacremoses->transformers) (8.0.0)\n",
            "Installing collected packages: fsspec, xxhash, huggingface-hub, datasets, tokenizers, sacremoses, transformers, rouge-score, sentencepiece\n",
            "Successfully installed datasets-1.6.2 fsspec-2021.5.0 huggingface-hub-0.0.8 rouge-score-0.0.4 sacremoses-0.0.45 sentencepiece-0.1.95 tokenizers-0.10.2 transformers-4.6.0 xxhash-2.0.2\n"
          ],
          "name": "stdout"
        }
      ]
    },
    {
      "cell_type": "code",
      "metadata": {
        "id": "0JK5_jDzCS9e",
        "colab": {
          "base_uri": "https://localhost:8080/"
        },
        "outputId": "7a2ad8ce-8f94-4889-9398-41909292b8ae"
      },
      "source": [
        "# Se importan los paquetes necesarios\n",
        "from datasets import load_metric\n",
        "import pandas as pd\n",
        "from transformers import AutoTokenizer\n",
        "from datasets import Dataset\n",
        "from transformers import AutoModelForSeq2SeqLM, DataCollatorForSeq2Seq, Seq2SeqTrainingArguments, Seq2SeqTrainer\n",
        "import nltk\n",
        "import numpy as np\n",
        "nltk.download('punkt')\n",
        "from bs4 import BeautifulSoup\n",
        "import re,string,unicodedata"
      ],
      "execution_count": null,
      "outputs": [
        {
          "output_type": "stream",
          "text": [
            "[nltk_data] Downloading package punkt to /root/nltk_data...\n",
            "[nltk_data]   Unzipping tokenizers/punkt.zip.\n"
          ],
          "name": "stdout"
        }
      ]
    },
    {
      "cell_type": "code",
      "metadata": {
        "id": "Sa1penaCAIZx",
        "colab": {
          "base_uri": "https://localhost:8080/",
          "height": 66,
          "referenced_widgets": [
            "8920c197d69342d188dda182b8fc155b",
            "b822a29ea4eb4080be72390784d9ca5b",
            "b52a9465aaa74ac19c697392e72b2b23",
            "7b0f465c06424bf38a040a1a6cd7db15",
            "b94d2bfe8fb843f1996770c8d6bf9103",
            "70ba3f6458ac48398068c82e7ab98cb8",
            "f9fd436d77bf44c9a06324a1c4f8719d",
            "c96ccef5e4194bf6bb0ce47995201da1"
          ]
        },
        "outputId": "fe4de314-b99d-414c-ef63-f11722af2567"
      },
      "source": [
        "# Se cargan las métricas ROUGE\n",
        "metric = load_metric(\"rouge\")"
      ],
      "execution_count": null,
      "outputs": [
        {
          "output_type": "display_data",
          "data": {
            "application/vnd.jupyter.widget-view+json": {
              "model_id": "8920c197d69342d188dda182b8fc155b",
              "version_minor": 0,
              "version_major": 2
            },
            "text/plain": [
              "HBox(children=(FloatProgress(value=0.0, description='Downloading', max=2170.0, style=ProgressStyle(description…"
            ]
          },
          "metadata": {
            "tags": []
          }
        },
        {
          "output_type": "stream",
          "text": [
            "\n"
          ],
          "name": "stdout"
        }
      ]
    },
    {
      "cell_type": "code",
      "metadata": {
        "id": "F6tXW82oBCbb",
        "colab": {
          "base_uri": "https://localhost:8080/"
        },
        "outputId": "6b5ca738-c7af-4e01-fbd5-6e025432ea01"
      },
      "source": [
        "metric"
      ],
      "execution_count": null,
      "outputs": [
        {
          "output_type": "execute_result",
          "data": {
            "text/plain": [
              "Metric(name: \"rouge\", features: {'predictions': Value(dtype='string', id='sequence'), 'references': Value(dtype='string', id='sequence')}, usage: \"\"\"\n",
              "Calculates average rouge scores for a list of hypotheses and references\n",
              "Args:\n",
              "    predictions: list of predictions to score. Each predictions\n",
              "        should be a string with tokens separated by spaces.\n",
              "    references: list of reference for each prediction. Each\n",
              "        reference should be a string with tokens separated by spaces.\n",
              "    rouge_types: A list of rouge types to calculate.\n",
              "        Valid names:\n",
              "        `\"rouge{n}\"` (e.g. `\"rouge1\"`, `\"rouge2\"`) where: {n} is the n-gram based scoring,\n",
              "        `\"rougeL\"`: Longest common subsequence based scoring.\n",
              "        `\"rougeLSum\"`: rougeLsum splits text using `\"\n",
              "\"`.\n",
              "        See details in https://github.com/huggingface/datasets/issues/617\n",
              "    use_stemmer: Bool indicating whether Porter stemmer should be used to strip word suffixes.\n",
              "    use_agregator: Return aggregates if this is set to True\n",
              "Returns:\n",
              "    rouge1: rouge_1 (precision, recall, f1),\n",
              "    rouge2: rouge_2 (precision, recall, f1),\n",
              "    rougeL: rouge_l (precision, recall, f1),\n",
              "    rougeLsum: rouge_lsum (precision, recall, f1)\n",
              "Examples:\n",
              "\n",
              "    >>> rouge = datasets.load_metric('rouge')\n",
              "    >>> predictions = [\"hello there\", \"general kenobi\"]\n",
              "    >>> references = [\"hello there\", \"general kenobi\"]\n",
              "    >>> results = rouge.compute(predictions=predictions, references=references)\n",
              "    >>> print(list(results.keys()))\n",
              "    ['rouge1', 'rouge2', 'rougeL', 'rougeLsum']\n",
              "    >>> print(results[\"rouge1\"])\n",
              "    AggregateScore(low=Score(precision=1.0, recall=1.0, fmeasure=1.0), mid=Score(precision=1.0, recall=1.0, fmeasure=1.0), high=Score(precision=1.0, recall=1.0, fmeasure=1.0))\n",
              "    >>> print(results[\"rouge1\"].mid.fmeasure)\n",
              "    1.0\n",
              "\"\"\", stored examples: 0)"
            ]
          },
          "metadata": {
            "tags": []
          },
          "execution_count": 7
        }
      ]
    },
    {
      "cell_type": "markdown",
      "metadata": {
        "id": "rzzuTWZlHK54"
      },
      "source": [
        "# Carga y preprocesado de los datos"
      ]
    },
    {
      "cell_type": "code",
      "metadata": {
        "id": "s03GM7w30Dsy",
        "colab": {
          "base_uri": "https://localhost:8080/"
        },
        "outputId": "9e71be3d-b27e-4bad-9691-5e89d926bb66"
      },
      "source": [
        "# Se conecta con Google Drive para la carga de datos\n",
        "from google.colab import drive\n",
        "drive.mount('/content/drive')"
      ],
      "execution_count": null,
      "outputs": [
        {
          "output_type": "stream",
          "text": [
            "Mounted at /content/drive\n"
          ],
          "name": "stdout"
        }
      ]
    },
    {
      "cell_type": "code",
      "metadata": {
        "id": "FGKjTZzu1G5e"
      },
      "source": [
        "# Se carga el fichero con los datos en un Dataframe de pandas\n",
        "df = pd.read_csv('/content/drive/MyDrive/Datasets/larazon_publico/data_larazon_publico.csv')"
      ],
      "execution_count": null,
      "outputs": []
    },
    {
      "cell_type": "code",
      "metadata": {
        "id": "p6l1B_42v-WG",
        "colab": {
          "base_uri": "https://localhost:8080/"
        },
        "outputId": "ff607e21-8d6e-41d3-d4bf-756d57663fba"
      },
      "source": [
        "df.describe"
      ],
      "execution_count": null,
      "outputs": [
        {
          "output_type": "execute_result",
          "data": {
            "text/plain": [
              "<bound method NDFrame.describe of        Unnamed: 0  ...                                            titular\n",
              "0               0  ...                         el submarino s-80 ya flota\n",
              "1               1  ...  calviño y calvo alaban (sin darse cuenta) la g...\n",
              "2               2  ...  el geo de la policía tendrá una nueva sede en ...\n",
              "3               3  ...  la madre de las niñas \"sobran las palabras par...\n",
              "4               4  ...  sólo quedan 10 presos de eta por recibir el be...\n",
              "...           ...  ...                                                ...\n",
              "58420       26943  ...  bruselas abre un expediente a españa por no de...\n",
              "58421       26944  ...  aprobado el proyecto de ley para que las mujer...\n",
              "58422       26945  ...  la comisión del alvia arranca escuchando a la ...\n",
              "58423       26946  ...  erc y pdecat piden explicaciones a interior po...\n",
              "58424       26947  ...  el congreso aplaza la primera sesión de contro...\n",
              "\n",
              "[58425 rows x 5 columns]>"
            ]
          },
          "metadata": {
            "tags": []
          },
          "execution_count": 10
        }
      ]
    },
    {
      "cell_type": "code",
      "metadata": {
        "id": "YmeTXXgV034X"
      },
      "source": [
        "from sklearn.utils import shuffle\n",
        "df = shuffle(df)\n"
      ],
      "execution_count": null,
      "outputs": []
    },
    {
      "cell_type": "code",
      "metadata": {
        "id": "eVYOxFZp1zzK"
      },
      "source": [
        "df = df.dropna()"
      ],
      "execution_count": null,
      "outputs": []
    },
    {
      "cell_type": "code",
      "metadata": {
        "colab": {
          "base_uri": "https://localhost:8080/"
        },
        "id": "9_rDjZ8Z08NP",
        "outputId": "d4239e3b-9dbf-494e-e859-10e4d94c49a3"
      },
      "source": [
        "df.describe"
      ],
      "execution_count": null,
      "outputs": [
        {
          "output_type": "execute_result",
          "data": {
            "text/plain": [
              "<bound method NDFrame.describe of        Unnamed: 0  ...                                            titular\n",
              "39926        8449  ...  el congreso tramitará la ley de igualdad labor...\n",
              "38490        7013  ...  atlantia se quedará con cellnex y venderá hisp...\n",
              "18579       18579  ...  el juez suspende la declaración de rato por fr...\n",
              "44673       13196  ...  podemos, nacionalistas e independentistas pide...\n",
              "53968       22491  ...  pablo iglesias fracasa en su intento \"in extre...\n",
              "...           ...  ...                                                ...\n",
              "32186         709  ...  más de 1,3 millones de familias necesitan ayud...\n",
              "41607       10130  ...  la dirección de cs ignora las críticas interna...\n",
              "47520       16043  ...  la fiscalía pide el archivo de la denuncia de ...\n",
              "24655       24655  ...  el traspaso de prisiones al gobierno vasco inq...\n",
              "40463        8986  ...  el obispo munilla propone ayunar como protesta...\n",
              "\n",
              "[58424 rows x 5 columns]>"
            ]
          },
          "metadata": {
            "tags": []
          },
          "execution_count": 13
        }
      ]
    },
    {
      "cell_type": "code",
      "metadata": {
        "colab": {
          "base_uri": "https://localhost:8080/",
          "height": 204
        },
        "id": "JY6ZCz9s1IaC",
        "outputId": "3e1c792c-2250-46c1-fd43-0465d27d5030"
      },
      "source": [
        "df.head()"
      ],
      "execution_count": null,
      "outputs": [
        {
          "output_type": "execute_result",
          "data": {
            "text/html": [
              "<div>\n",
              "<style scoped>\n",
              "    .dataframe tbody tr th:only-of-type {\n",
              "        vertical-align: middle;\n",
              "    }\n",
              "\n",
              "    .dataframe tbody tr th {\n",
              "        vertical-align: top;\n",
              "    }\n",
              "\n",
              "    .dataframe thead th {\n",
              "        text-align: right;\n",
              "    }\n",
              "</style>\n",
              "<table border=\"1\" class=\"dataframe\">\n",
              "  <thead>\n",
              "    <tr style=\"text-align: right;\">\n",
              "      <th></th>\n",
              "      <th>Unnamed: 0</th>\n",
              "      <th>Unnamed: 0.1</th>\n",
              "      <th>indi</th>\n",
              "      <th>cuerpo</th>\n",
              "      <th>titular</th>\n",
              "    </tr>\n",
              "  </thead>\n",
              "  <tbody>\n",
              "    <tr>\n",
              "      <th>39926</th>\n",
              "      <td>8449</td>\n",
              "      <td>8449</td>\n",
              "      <td>116</td>\n",
              "      <td>el congreso ha respaldado este lunes la tramit...</td>\n",
              "      <td>el congreso tramitará la ley de igualdad labor...</td>\n",
              "    </tr>\n",
              "    <tr>\n",
              "      <th>38490</th>\n",
              "      <td>7013</td>\n",
              "      <td>7013</td>\n",
              "      <td>3066</td>\n",
              "      <td>atlantia no prevé vender activos de abertis en...</td>\n",
              "      <td>atlantia se quedará con cellnex y venderá hisp...</td>\n",
              "    </tr>\n",
              "    <tr>\n",
              "      <th>18579</th>\n",
              "      <td>18579</td>\n",
              "      <td>18579</td>\n",
              "      <td>4683</td>\n",
              "      <td>el juez antonio serrano-arnal ha suspendido la...</td>\n",
              "      <td>el juez suspende la declaración de rato por fr...</td>\n",
              "    </tr>\n",
              "    <tr>\n",
              "      <th>44673</th>\n",
              "      <td>13196</td>\n",
              "      <td>13196</td>\n",
              "      <td>4589</td>\n",
              "      <td>podemos, erc, junts, la cup, pnv, eh bildu, bn...</td>\n",
              "      <td>podemos, nacionalistas e independentistas pide...</td>\n",
              "    </tr>\n",
              "    <tr>\n",
              "      <th>53968</th>\n",
              "      <td>22491</td>\n",
              "      <td>22491</td>\n",
              "      <td>13962</td>\n",
              "      <td>pese a estar de baja por paternidad, el líder ...</td>\n",
              "      <td>pablo iglesias fracasa en su intento \"in extre...</td>\n",
              "    </tr>\n",
              "  </tbody>\n",
              "</table>\n",
              "</div>"
            ],
            "text/plain": [
              "       Unnamed: 0  ...                                            titular\n",
              "39926        8449  ...  el congreso tramitará la ley de igualdad labor...\n",
              "38490        7013  ...  atlantia se quedará con cellnex y venderá hisp...\n",
              "18579       18579  ...  el juez suspende la declaración de rato por fr...\n",
              "44673       13196  ...  podemos, nacionalistas e independentistas pide...\n",
              "53968       22491  ...  pablo iglesias fracasa en su intento \"in extre...\n",
              "\n",
              "[5 rows x 5 columns]"
            ]
          },
          "metadata": {
            "tags": []
          },
          "execution_count": 14
        }
      ]
    },
    {
      "cell_type": "code",
      "metadata": {
        "id": "BhcLRoqqAQOF"
      },
      "source": [
        "# Se selecciona el modelo pre-entrenado\n",
        "model_checkpoint = \"google/mt5-small\""
      ],
      "execution_count": null,
      "outputs": []
    },
    {
      "cell_type": "code",
      "metadata": {
        "id": "5g80PsozCRhj",
        "colab": {
          "base_uri": "https://localhost:8080/",
          "height": 213,
          "referenced_widgets": [
            "aff037a9457c431793243483644b50d3",
            "75675cc212ee4c80a9cb711e5324bdf8",
            "b0ab7ebb04b4497aadb48a4956118fec",
            "6b248e5a76c84507850af50e1f90a53a",
            "69d7cf73748f4a719a2d1092e10fc56c",
            "7b0621f4f5cc4fd1b917b5827f35328b",
            "bd2a0f1d1d194e7e8f01baf2d083f0be",
            "9b0d447d949e4c33be7689a9585679e5",
            "4826a8f6bf4a46f5ae3bc27eb007c948",
            "2505c012635846caa1b60d21ab2b4171",
            "f65666e8572b43bcac60f0a5024e81fd",
            "0c1a396cd4d34042897aaaee40e23715",
            "1aed2531f87844fc9a1bdda3038e179a",
            "ea3aad2429fe49dd86ab706e87cac2b4",
            "8263deec27c34dbf88dc0e85c921bfda",
            "629f8c235f1b4b8cb52d77470a661668",
            "d8784d57e41a4c30b73996a8eda3c4a3",
            "107fce162d5b41d1b0f90af46b767cd6",
            "6cdf313610e6487ebfdd96fb13d7c2a0",
            "31d308a9878548b68503f03e363d81a3",
            "d193a65137b743ffba4b810951bfa92b",
            "86516de545fc4b488da2a754e538ec89",
            "4e5c21646f6f46ff8f3a8138ba74dcfd",
            "4667804a2f3c4690a24d5a025080301f",
            "0b22d8d8a13e4b5c8899acd3a324747f",
            "44abff17ae1e47ffbaa2ad14e623a2fe",
            "d93e202f22604ff79cd631216e498a19",
            "b09ce436aaa244b2953a992215b14a71",
            "efa10a45a35e4b82ab3c3e8e1f86006d",
            "7809ae99ae484f6b92a815d9bd685915",
            "e02bfd41b5ab4253bda411b5e3d7f615",
            "5efac9069b5844978c29815aaa2838bf"
          ]
        },
        "outputId": "b8aa2575-06fd-4315-955c-eaadd4b97260"
      },
      "source": [
        "# Al emplear AutoTokenizer la librería selecciona automáticamente un tokenizer\n",
        "# adecuado para el modelo seleccionado\n",
        "tokenizer = AutoTokenizer.from_pretrained(model_checkpoint)"
      ],
      "execution_count": null,
      "outputs": [
        {
          "output_type": "display_data",
          "data": {
            "application/vnd.jupyter.widget-view+json": {
              "model_id": "aff037a9457c431793243483644b50d3",
              "version_minor": 0,
              "version_major": 2
            },
            "text/plain": [
              "HBox(children=(FloatProgress(value=0.0, description='Downloading', max=553.0, style=ProgressStyle(description_…"
            ]
          },
          "metadata": {
            "tags": []
          }
        },
        {
          "output_type": "stream",
          "text": [
            "\n"
          ],
          "name": "stdout"
        },
        {
          "output_type": "display_data",
          "data": {
            "application/vnd.jupyter.widget-view+json": {
              "model_id": "4826a8f6bf4a46f5ae3bc27eb007c948",
              "version_minor": 0,
              "version_major": 2
            },
            "text/plain": [
              "HBox(children=(FloatProgress(value=0.0, description='Downloading', max=4309802.0, style=ProgressStyle(descript…"
            ]
          },
          "metadata": {
            "tags": []
          }
        },
        {
          "output_type": "stream",
          "text": [
            "\n"
          ],
          "name": "stdout"
        },
        {
          "output_type": "display_data",
          "data": {
            "application/vnd.jupyter.widget-view+json": {
              "model_id": "d8784d57e41a4c30b73996a8eda3c4a3",
              "version_minor": 0,
              "version_major": 2
            },
            "text/plain": [
              "HBox(children=(FloatProgress(value=0.0, description='Downloading', max=99.0, style=ProgressStyle(description_w…"
            ]
          },
          "metadata": {
            "tags": []
          }
        },
        {
          "output_type": "stream",
          "text": [
            "\n"
          ],
          "name": "stdout"
        },
        {
          "output_type": "display_data",
          "data": {
            "application/vnd.jupyter.widget-view+json": {
              "model_id": "0b22d8d8a13e4b5c8899acd3a324747f",
              "version_minor": 0,
              "version_major": 2
            },
            "text/plain": [
              "HBox(children=(FloatProgress(value=0.0, description='Downloading', max=82.0, style=ProgressStyle(description_w…"
            ]
          },
          "metadata": {
            "tags": []
          }
        },
        {
          "output_type": "stream",
          "text": [
            "\n"
          ],
          "name": "stdout"
        }
      ]
    },
    {
      "cell_type": "code",
      "metadata": {
        "id": "SSAxE2gFCS_9",
        "colab": {
          "base_uri": "https://localhost:8080/"
        },
        "outputId": "d795cf87-417f-4e6e-e5f7-163b069ddd74"
      },
      "source": [
        "# as_target_tokenizer hace que se usen los tokens adecuados para identificar\n",
        "# las predicciones\n",
        "with tokenizer.as_target_tokenizer():\n",
        "    print(tokenizer([\"Hello, this one sentence!\", \"This is another sentence.\"]))"
      ],
      "execution_count": null,
      "outputs": [
        {
          "output_type": "stream",
          "text": [
            "{'input_ids': [[30273, 261, 714, 1371, 259, 98923, 309, 1], [1494, 339, 259, 7845, 259, 98923, 260, 1]], 'attention_mask': [[1, 1, 1, 1, 1, 1, 1, 1], [1, 1, 1, 1, 1, 1, 1, 1]]}\n"
          ],
          "name": "stdout"
        }
      ]
    },
    {
      "cell_type": "code",
      "metadata": {
        "id": "SL-hK-K3CqHp"
      },
      "source": [
        "# Si se emplea un modelo T5, se añade como prefijo el nombre de la tarea\n",
        "if \"t5\" in model_checkpoint:\n",
        "    prefix = \"summarize: \"\n",
        "else:\n",
        "    prefix = \"\""
      ],
      "execution_count": null,
      "outputs": []
    },
    {
      "cell_type": "code",
      "metadata": {
        "id": "4HqUh-e6IVv6"
      },
      "source": [
        "# El DataFrame se convierte a formato Dataset (requerido por la implementación)\n",
        "larazon_publico_dataset = Dataset.from_pandas(df)\n",
        "\n",
        "# Se divide en dos datasets: uno de entrenamiento y uno de validación\n",
        "larazon_publico_datasets = larazon_publico_dataset.train_test_split(test_size=0.1)"
      ],
      "execution_count": null,
      "outputs": []
    },
    {
      "cell_type": "code",
      "metadata": {
        "id": "4jix0z-kRdur"
      },
      "source": [
        "# Se establece el límite de tamaño para el cuerpo de las noticias y para\n",
        "# los titulares (input y target)\n",
        "\n",
        "max_input_length = 1024\n",
        "max_target_length = 128\n",
        "\n",
        "# Esta función prepara los datos en el formato que espera el modelo. \n",
        "# model_inputs incluye los cuerpos tokenizados y model_inputs[\"labels\"] los \n",
        "# titulares tokenizados.\n",
        "\n",
        "def preprocess_function_larazon_publico(examples):\n",
        "    inputs = [prefix + doc for doc in examples[\"cuerpo\"]]\n",
        "    model_inputs = tokenizer(inputs, max_length=max_input_length, truncation=True)\n",
        "    \n",
        "    # Se tokenizan como target las etiquetas (titulares)\n",
        "    with tokenizer.as_target_tokenizer():\n",
        "        labels = tokenizer(examples[\"titular\"], max_length=max_target_length, truncation=True)\n",
        "\n",
        "    model_inputs[\"labels\"] = labels[\"input_ids\"]\n",
        "    return model_inputs"
      ],
      "execution_count": null,
      "outputs": []
    },
    {
      "cell_type": "code",
      "metadata": {
        "id": "XwiYsa6IRPH5",
        "colab": {
          "base_uri": "https://localhost:8080/",
          "height": 115,
          "referenced_widgets": [
            "aa6503e120894b11be9b8c3eed6624f5",
            "d6543881878648fa892129c60cca9b69",
            "c5e868b12e4848d6a48fc27a7ebaa7ad",
            "e77544025ca54cd8b4f37ddceae803a7",
            "45796ea794d34970a393039440a5d313",
            "320df6f62e51460aa58ccd28e55b20fe",
            "aeebef9355b74739bb2876b946cb685a",
            "a7d4eb76f5fc49f1bd42e53cdfba15be",
            "fca20c747c4241258e20251af5dd02b9",
            "f782a547788a42e08805a11a684ddb76",
            "e1a9730081b646edbc743d1e2659f3de",
            "ffaae5be7e6e44759d537fe655728b47",
            "c5c4e91ee6fb406b979cfd3ea82c06e1",
            "9feb439c488e49e8a1a8b9820ad2397b",
            "a713fbc659f047eda3ecfe95d1533d34",
            "3d9adb484dee40c3a3e5c1ea5f03f01e"
          ]
        },
        "outputId": "28498b0d-2c56-4267-f0fe-c312b64bdff4"
      },
      "source": [
        "# Se aplica la función anterior a los datasets\n",
        "tokenized_datasets = larazon_publico_datasets.map(preprocess_function_larazon_publico, batched=True)"
      ],
      "execution_count": null,
      "outputs": [
        {
          "output_type": "display_data",
          "data": {
            "application/vnd.jupyter.widget-view+json": {
              "model_id": "aa6503e120894b11be9b8c3eed6624f5",
              "version_minor": 0,
              "version_major": 2
            },
            "text/plain": [
              "HBox(children=(FloatProgress(value=0.0, max=53.0), HTML(value='')))"
            ]
          },
          "metadata": {
            "tags": []
          }
        },
        {
          "output_type": "stream",
          "text": [
            "\n"
          ],
          "name": "stdout"
        },
        {
          "output_type": "display_data",
          "data": {
            "application/vnd.jupyter.widget-view+json": {
              "model_id": "fca20c747c4241258e20251af5dd02b9",
              "version_minor": 0,
              "version_major": 2
            },
            "text/plain": [
              "HBox(children=(FloatProgress(value=0.0, max=6.0), HTML(value='')))"
            ]
          },
          "metadata": {
            "tags": []
          }
        },
        {
          "output_type": "stream",
          "text": [
            "\n"
          ],
          "name": "stdout"
        }
      ]
    },
    {
      "cell_type": "markdown",
      "metadata": {
        "id": "fmqwcM1lHVfF"
      },
      "source": [
        "# Configuración del Trainer y entrenamiento"
      ]
    },
    {
      "cell_type": "code",
      "metadata": {
        "id": "gFsYmsbPET_N",
        "colab": {
          "base_uri": "https://localhost:8080/",
          "height": 66,
          "referenced_widgets": [
            "081ed38a30184155ade45c2c110feb74",
            "fc3f0ca1dd95489cb84863f43940e117",
            "0291585fa21142fbb2670c68f6a86f3e",
            "2d97c6c8e51e421b83a965681b130693",
            "d1024cd84e4b4fbb82b6fc00c4a9d592",
            "037f850e4933413280c568250898b7fc",
            "26a97424a9fb48318d84608dfadf9d5f",
            "64bcf398dd6f400298d34f78f305dced"
          ]
        },
        "outputId": "acb58c33-362d-467c-d030-720353d4ea7a"
      },
      "source": [
        "# Al emplear AutoModel la librería carga la versión adecuada del modelo\n",
        "# para la tarea especificada\n",
        "model = AutoModelForSeq2SeqLM.from_pretrained(model_checkpoint)"
      ],
      "execution_count": null,
      "outputs": [
        {
          "output_type": "display_data",
          "data": {
            "application/vnd.jupyter.widget-view+json": {
              "model_id": "081ed38a30184155ade45c2c110feb74",
              "version_minor": 0,
              "version_major": 2
            },
            "text/plain": [
              "HBox(children=(FloatProgress(value=0.0, description='Downloading', max=1200794589.0, style=ProgressStyle(descr…"
            ]
          },
          "metadata": {
            "tags": []
          }
        },
        {
          "output_type": "stream",
          "text": [
            "\n"
          ],
          "name": "stdout"
        }
      ]
    },
    {
      "cell_type": "code",
      "metadata": {
        "id": "DwnwKzeFEa8I"
      },
      "source": [
        "# Se definen los parámetros para el entrenamiento\n",
        "batch_size = 6\n",
        "args = Seq2SeqTrainingArguments(\n",
        "    \"test-summarization\",\n",
        "    evaluation_strategy = \"epoch\",\n",
        "    learning_rate=2e-4,\n",
        "    per_device_train_batch_size=batch_size,\n",
        "    per_device_eval_batch_size=batch_size,\n",
        "    weight_decay=0.01,\n",
        "    save_total_limit=3,\n",
        "    num_train_epochs=2,\n",
        "    predict_with_generate=True,\n",
        "#    fp16=True,\n",
        "#    fp16_opt_level='O3'\n",
        ")"
      ],
      "execution_count": null,
      "outputs": []
    },
    {
      "cell_type": "code",
      "metadata": {
        "id": "-3WtKSHCEkT-"
      },
      "source": [
        "# El objeto DataCollator se emplea para formar los batches (conjuntos de \n",
        "# ejemplos que se entrenan de una vez) a partir de los datasets.\n",
        "# En este caso, se realiza padding de manera dinámica (rellenar con tokens \n",
        "# hasta max_input_length )\n",
        "\n",
        "data_collator = DataCollatorForSeq2Seq(tokenizer, model=model)"
      ],
      "execution_count": null,
      "outputs": []
    },
    {
      "cell_type": "code",
      "metadata": {
        "id": "DaQpzhMPEs-T"
      },
      "source": [
        "# Se define una función para calcular las métricas.\n",
        "\n",
        "def compute_metrics(eval_pred):\n",
        "    predictions, labels = eval_pred\n",
        "    decoded_preds = tokenizer.batch_decode(predictions, skip_special_tokens=True)\n",
        "    # Sustituye -100 en las etiquetas (no se puede decodificar)\n",
        "    labels = np.where(labels != -100, labels, tokenizer.pad_token_id)\n",
        "    decoded_labels = tokenizer.batch_decode(labels, skip_special_tokens=True)\n",
        "    \n",
        "    # Rouge exige que cada oración esté en una línea diferente\n",
        "    decoded_preds = [\"\\n\".join(nltk.sent_tokenize(pred.strip())) for pred in decoded_preds]\n",
        "    decoded_labels = [\"\\n\".join(nltk.sent_tokenize(label.strip())) for label in decoded_labels]\n",
        "    \n",
        "    result = metric.compute(predictions=decoded_preds, references=decoded_labels, use_stemmer=True)\n",
        "    result = {key: value.mid.fmeasure * 100 for key, value in result.items()}\n",
        "    \n",
        "    # Se añade la media de los textos generados\n",
        "    prediction_lens = [np.count_nonzero(pred != tokenizer.pad_token_id) for pred in predictions]\n",
        "    result[\"gen_len\"] = np.mean(prediction_lens)\n",
        "    \n",
        "    return {k: round(v, 4) for k, v in result.items()}"
      ],
      "execution_count": null,
      "outputs": []
    },
    {
      "cell_type": "code",
      "metadata": {
        "id": "JihDhuihEuy8"
      },
      "source": [
        "# Se definen los parámetros del objeto trainer. \n",
        "trainer = Seq2SeqTrainer(\n",
        "    model,\n",
        "    args,\n",
        "    train_dataset=tokenized_datasets['train'],\n",
        "    eval_dataset=tokenized_datasets['test'],\n",
        "    data_collator=data_collator,\n",
        "    tokenizer=tokenizer,\n",
        "    compute_metrics=compute_metrics\n",
        ")"
      ],
      "execution_count": null,
      "outputs": []
    },
    {
      "cell_type": "code",
      "metadata": {
        "id": "Dd-WFSVt3di7"
      },
      "source": [
        "import torch"
      ],
      "execution_count": null,
      "outputs": []
    },
    {
      "cell_type": "code",
      "metadata": {
        "id": "uFwhNfHPuaQg",
        "colab": {
          "base_uri": "https://localhost:8080/"
        },
        "outputId": "7833e4e7-a6dc-42d0-c2f7-dddf9d65ece9"
      },
      "source": [
        "# Se comprueba el servicio de procesamiento. Si no hay GPU disponibles, se \n",
        "# recomienda conectar el entorno de ejecución a una. \n",
        "# (Entorno de ejecución -> Cambiar tipo de entorno de ejecución -> GPU (acelerador de hardware))\n",
        "\n",
        "if torch.cuda.is_available():       \n",
        "    device = torch.device(\"cuda\")\n",
        "    print(f'Hay {torch.cuda.device_count()} GPU(s) disponibles.')\n",
        "    print('Device name:', torch.cuda.get_device_name(0))\n",
        "\n",
        "else:\n",
        "    print('No hay GPU disponibles, usando la CPU.')\n",
        "    device = torch.device(\"cpu\")"
      ],
      "execution_count": null,
      "outputs": [
        {
          "output_type": "stream",
          "text": [
            "Hay 1 GPU(s) disponibles.\n",
            "Device name: Tesla P100-PCIE-16GB\n"
          ],
          "name": "stdout"
        }
      ]
    },
    {
      "cell_type": "code",
      "metadata": {
        "id": "bZJAKJ19xUsM"
      },
      "source": [
        "# Se limpia la caché de cuda antes de comenzar el entrenamiento #############\n",
        "import torch\n",
        "import gc\n",
        "gc.collect()\n",
        "torch.cuda.empty_cache()"
      ],
      "execution_count": null,
      "outputs": []
    },
    {
      "cell_type": "code",
      "metadata": {
        "id": "Ep_QxiajxUsp"
      },
      "source": [
        "torch.cuda.memory_summary(device=None, abbreviated=False) ###"
      ],
      "execution_count": null,
      "outputs": []
    },
    {
      "cell_type": "code",
      "metadata": {
        "colab": {
          "base_uri": "https://localhost:8080/",
          "height": 174
        },
        "id": "v0qIhYO0E7Ty",
        "outputId": "dc62ba67-1174-4966-ffa2-41d2dcd64dc1"
      },
      "source": [
        "# Se realiza el entrenamiento\n",
        "trainer.train()"
      ],
      "execution_count": null,
      "outputs": [
        {
          "output_type": "display_data",
          "data": {
            "text/html": [
              "\n",
              "    <div>\n",
              "      \n",
              "      <progress value='17528' max='17528' style='width:300px; height:20px; vertical-align: middle;'></progress>\n",
              "      [17528/17528 3:39:09, Epoch 2/2]\n",
              "    </div>\n",
              "    <table border=\"1\" class=\"dataframe\">\n",
              "  <thead>\n",
              "    <tr style=\"text-align: left;\">\n",
              "      <th>Epoch</th>\n",
              "      <th>Training Loss</th>\n",
              "      <th>Validation Loss</th>\n",
              "      <th>Rouge1</th>\n",
              "      <th>Rouge2</th>\n",
              "      <th>Rougel</th>\n",
              "      <th>Rougelsum</th>\n",
              "      <th>Gen Len</th>\n",
              "    </tr>\n",
              "  </thead>\n",
              "  <tbody>\n",
              "    <tr>\n",
              "      <td>1</td>\n",
              "      <td>1.915300</td>\n",
              "      <td>1.615933</td>\n",
              "      <td>43.260000</td>\n",
              "      <td>27.636900</td>\n",
              "      <td>39.800900</td>\n",
              "      <td>39.830800</td>\n",
              "      <td>17.809900</td>\n",
              "    </tr>\n",
              "    <tr>\n",
              "      <td>2</td>\n",
              "      <td>1.735700</td>\n",
              "      <td>1.529293</td>\n",
              "      <td>44.028800</td>\n",
              "      <td>28.291300</td>\n",
              "      <td>40.542600</td>\n",
              "      <td>40.558700</td>\n",
              "      <td>17.874200</td>\n",
              "    </tr>\n",
              "  </tbody>\n",
              "</table><p>"
            ],
            "text/plain": [
              "<IPython.core.display.HTML object>"
            ]
          },
          "metadata": {
            "tags": []
          }
        },
        {
          "output_type": "execute_result",
          "data": {
            "text/plain": [
              "TrainOutput(global_step=17528, training_loss=2.009677486950706, metrics={'train_runtime': 13150.3551, 'train_samples_per_second': 1.333, 'total_flos': 310472230788864.0, 'epoch': 2.0, 'init_mem_cpu_alloc_delta': 808689664, 'init_mem_gpu_alloc_delta': 1200707584, 'init_mem_cpu_peaked_delta': 0, 'init_mem_gpu_peaked_delta': 0, 'train_mem_cpu_alloc_delta': -318017536, 'train_mem_gpu_alloc_delta': 3613413888, 'train_mem_cpu_peaked_delta': 373284864, 'train_mem_gpu_peaked_delta': 8260194816})"
            ]
          },
          "metadata": {
            "tags": []
          },
          "execution_count": 27
        }
      ]
    },
    {
      "cell_type": "code",
      "metadata": {
        "id": "_aZx6nhDDUc3"
      },
      "source": [
        "# Se guarda el modelo con todos sus pesos \n",
        "trainer.save_model(\"./drive/MyDrive/Modelos/lrp_mt5_small_E85_b\")"
      ],
      "execution_count": null,
      "outputs": []
    },
    {
      "cell_type": "markdown",
      "metadata": {
        "id": "telc2RSPGqL2"
      },
      "source": [
        "# Predicciones"
      ]
    },
    {
      "cell_type": "code",
      "metadata": {
        "id": "pTUSv-XwF8xk"
      },
      "source": [
        "# Se carga el modelo guardado\n",
        "loaded_model = AutoModelForSeq2SeqLM.from_pretrained('./drive/MyDrive/Modelos/lrp_mt5_small_E85_b')"
      ],
      "execution_count": null,
      "outputs": []
    },
    {
      "cell_type": "code",
      "metadata": {
        "id": "xNyAZA1nhoJc",
        "colab": {
          "base_uri": "https://localhost:8080/",
          "height": 137
        },
        "outputId": "6ccdb47f-a211-4cc3-abfc-a14777c63308"
      },
      "source": [
        "df.loc[1]['cuerpo']"
      ],
      "execution_count": null,
      "outputs": [
        {
          "output_type": "execute_result",
          "data": {
            "application/vnd.google.colaboratory.intrinsic+json": {
              "type": "string"
            },
            "text/plain": [
              "'este viernes, el presidente del gobierno, pedro sánchez, y las cuatro vicepresidentas, carmen calvo, nadia calviño, yolanda díaz y teresa ribera, se han reunido con el rey, felipe vi, para presentarles el plan de recuperación, transformación y resiliencia previsto por el ejecutivo, el paquete de reformas e inversiones que pretende impulsar españa para canalizar los 140.000 millones de fondos europeos de reconstrucción que recibirá hasta 2026.según ha informado casa real, el encuentro tuvo lugar para dar los detalles del contenido del plan al monarca, en una reunión que no estaba incluida en la agenda del rey ni del jefe del ejecutivo. en dicho encuentro, las cámaras captaron una conversación entre las vicepresidentas y el rey en las que alababan que el teatro real de madrid haya estado abierto durante la pandemia.en el vídeo publicado por casa real, se puede escuchar dicha conversación entre las vicepresidentas y el monarca, que sucede en tono distendido, al parecer antes de comenzar la reunión, y se intuye que están hablando sobre la situación que vive el sector de la cultura dada la pandemia del covid-19.primero, es la vicepresidenta segunda, nadia calviño, quien afirma que españa \"es un oasis para todo el mundo de la lírica\". \"es que el teatro real es el único gran teatro lírico que se ha mantenido abierto\", añade carmen calvo.tras esto, felipe vi menciona el liceo y la vicepresidenta primera dice que \"ha ido ahí, ahí...\" \"madrid ha sido...\", dice sin terminar la frase, ya que justo en ese instante cambia el plano y pasa a enfocar al rey. en ese momento, felipe vi dice una frase que no termina de entenderse con exactitud y, de la cual, podrían entenderse dos frases diferentes \"madrid ha sido una liberación\" o \"ahí ha sido una liberación\".esta conversación ha circulado con velocidad por las redes sociales y muchos han señalado que se trataba de un halago a la gestión que ha hecho madrid de la pandemia. toni cantó se ha hecho del suceso y ha afirmado en twitter \"felipe vi a pedro sánchez y sus cuatro vicepresidentas, hablando del impacto de la pandemia del coronavirus en los espectáculos culturales. ‘madrid ha sido una liberación’\".'"
            ]
          },
          "metadata": {
            "tags": []
          },
          "execution_count": 31
        }
      ]
    },
    {
      "cell_type": "code",
      "metadata": {
        "id": "uYLofP0AhrvC",
        "colab": {
          "base_uri": "https://localhost:8080/",
          "height": 35
        },
        "outputId": "820bc0ff-2a2d-4ee1-b8da-0193ea99ed62"
      },
      "source": [
        "df.loc[1]['titular']"
      ],
      "execution_count": null,
      "outputs": [
        {
          "output_type": "execute_result",
          "data": {
            "application/vnd.google.colaboratory.intrinsic+json": {
              "type": "string"
            },
            "text/plain": [
              "'calviño y calvo alaban (sin darse cuenta) la gestión de ayuso en madrid con el rey ante un sánchez atónito'"
            ]
          },
          "metadata": {
            "tags": []
          },
          "execution_count": 32
        }
      ]
    },
    {
      "cell_type": "code",
      "metadata": {
        "id": "1aC6c9tvjeRw"
      },
      "source": [
        "# Se tokeniza la entrada\n",
        "inputs = tokenizer.encode(\"summarize: \" + df.loc[1]['cuerpo'], return_tensors=\"pt\", max_length=1024, truncation=True)"
      ],
      "execution_count": null,
      "outputs": []
    },
    {
      "cell_type": "code",
      "metadata": {
        "id": "GQ3enMSikCs_",
        "colab": {
          "base_uri": "https://localhost:8080/"
        },
        "outputId": "8f942f99-560d-42b4-e8c6-f8f6da589206"
      },
      "source": [
        "# Se genera la salida a partir del modelo cargado\n",
        "outputs = loaded_model.generate(\n",
        "    inputs, \n",
        "    max_length=128, \n",
        "    min_length=10, \n",
        "    length_penalty=2.0, \n",
        "    num_beams=4, \n",
        "    early_stopping=True)\n",
        "# just for debugging\n",
        "print(outputs)\n",
        "print(tokenizer.decode(outputs[0]))"
      ],
      "execution_count": null,
      "outputs": [
        {
          "output_type": "stream",
          "text": [
            "tensor([[     0,    259,    263,   1301,  10320,    259,    276,    317,  89083,\n",
            "            303,    584,   4658,    278,    450,    362,  73069,    435,  32985,\n",
            "           1838,    362,   2127,    269,  40919,    931,    259,    276,    584,\n",
            "         106059,   1729,      1]])\n",
            "<pad> sánchez y calvo se reúnen con el rey para presentarles el plan de recuperación y resiliencia</s>\n"
          ],
          "name": "stdout"
        }
      ]
    },
    {
      "cell_type": "code",
      "metadata": {
        "colab": {
          "base_uri": "https://localhost:8080/",
          "height": 137
        },
        "id": "pzZiOIOghpn_",
        "outputId": "34917a83-e4d1-4255-d095-c16a1d28f87e"
      },
      "source": [
        "df.loc[30002]['cuerpo']"
      ],
      "execution_count": null,
      "outputs": [
        {
          "output_type": "execute_result",
          "data": {
            "application/vnd.google.colaboratory.intrinsic+json": {
              "type": "string"
            },
            "text/plain": [
              "'la anulación del voto de un diputado del congreso, que había pedido votar telemáticamente y lo ha hecho presencialmente, ha provocado un empate en el escrutinio del dictamen sobre reactivación económica que obligará a repetir la votación en el próximo pleno. en una resolución de la presidenta del congreso, meritxell batet, se ordena la repetición de esa votación que este miércoles había sido favorable al contenido del dictamen con medidas y recomendaciones para la recuperación económica tras la pandemia de coronavirus. al terminar el pleno, los letrados han comprobado que un miembro de la cámara -cuya identidad no ha sido facilitada- y que había solicitado votación telemática ha votado presencialmente. los servicios jurídicos han considerado que este voto no puede contabilizarse y deben corregirse los resultados.como consecuencia de esta corrección se ha producido un empate en la votación del dictamen de recuperación económica, por lo que debe repetirse en aplicación del reglamento del congreso y se hará en el próximo pleno extraordinario. la anomalía podía haberse subsanado si el grupo parlamentario del diputado hubiera comunicado a la mesa el cambio de sistema de votación de telemático a presencial. pero no lo ha hecho.en consecuencia, la presidencia del congreso ha debido emitir una resolución para informar sobre los recuentos de las votaciones de este miércoles, en los que no figura ya el voto de ese diputado. se deduce que era un diputado de un grupo que votó a favor de los cuatro textos del dictamen, ya que en los nuevos cómputos los totales de \"síes\" se quedan en uno menos. ello no altera la aprobación o rechazo de ninguna de las medidas votadas en el pleno de este miércoles excepto la aprobación del bloque económico de la reconstrucción. sus 169 votos a favor se rebajan ahora a 168, los mismos que los votos en contra.según indica el reglamento del congreso, el artículo 88.1, los empates obligan a una nueva votación para intentar deshacerlos. se hará en el próximo pleno extraordinario, lo que previsiblemente tendrá lugar la semana que viene si batet fija la fecha de la sesión sobre las últimas cumbres europeas cuya celebración ha pedido el presidente del gobierno, pedro sánchez.'"
            ]
          },
          "metadata": {
            "tags": []
          },
          "execution_count": 35
        }
      ]
    },
    {
      "cell_type": "code",
      "metadata": {
        "colab": {
          "base_uri": "https://localhost:8080/",
          "height": 35
        },
        "id": "SIA7t8XAhpoE",
        "outputId": "beb65cd3-e0fc-4abb-af08-c3ebac70b4bc"
      },
      "source": [
        "df.loc[30002]['titular']"
      ],
      "execution_count": null,
      "outputs": [
        {
          "output_type": "execute_result",
          "data": {
            "application/vnd.google.colaboratory.intrinsic+json": {
              "type": "string"
            },
            "text/plain": [
              "'la anulación del voto de un diputado obliga a repetir la votación del bloque económico'"
            ]
          },
          "metadata": {
            "tags": []
          },
          "execution_count": 36
        }
      ]
    },
    {
      "cell_type": "code",
      "metadata": {
        "id": "OPjCNJu2hpoF"
      },
      "source": [
        "# Se tokeniza la entrada\n",
        "inputs = tokenizer.encode(\"summarize: \" + df.loc[30002]['cuerpo'], return_tensors=\"pt\", max_length=1024, truncation=True)"
      ],
      "execution_count": null,
      "outputs": []
    },
    {
      "cell_type": "code",
      "metadata": {
        "colab": {
          "base_uri": "https://localhost:8080/"
        },
        "id": "YrCdezZMhpoG",
        "outputId": "942349c3-4983-4a05-aa77-aea6fb226c44"
      },
      "source": [
        "# Se genera la salida a partir del modelo cargado\n",
        "outputs = loaded_model.generate(\n",
        "    inputs, \n",
        "    max_length=128, \n",
        "    min_length=10, \n",
        "    length_penalty=2.0, \n",
        "    num_beams=4, \n",
        "    early_stopping=True)\n",
        "# just for debugging\n",
        "print(outputs)\n",
        "print(tokenizer.decode(outputs[0]))"
      ],
      "execution_count": null,
      "outputs": [
        {
          "output_type": "stream",
          "text": [
            "tensor([[     0,    283,  24403,   1434,    426,    259,  57347,    269,    335,\n",
            "            301,  45949,    426, 117320,    268,  25809,    335,  35840,    265,\n",
            "            289,    362,    259,    265, 213539,  11611,    426,  48958,   1647,\n",
            "           1615,    259, 212505,   1434,    259,  48733,      1]])\n",
            "<pad> la anulación del voto de un diputado del congreso provoca un empate en el escrutinio del dictamen sobre reactivación económica</s>\n"
          ],
          "name": "stdout"
        }
      ]
    },
    {
      "cell_type": "code",
      "metadata": {
        "id": "U3b7ElTaTIQ4"
      },
      "source": [
        "# Probamos ahora con una nueva noticia\n",
        "df_larazon_test = pd.read_csv('/content/drive/MyDrive/Datasets/larazon/data_larazon_espana_test.csv')\n",
        "df_larazon_test.columns = ['cuerpo', 'titular']\n",
        "cuerpo_test = df_larazon_test.loc[7]['cuerpo']\n",
        "titular_test = df_larazon_test.loc[7]['titular']"
      ],
      "execution_count": null,
      "outputs": []
    },
    {
      "cell_type": "code",
      "metadata": {
        "colab": {
          "base_uri": "https://localhost:8080/"
        },
        "id": "MLlqhvZaXKSh",
        "outputId": "ea89393a-1196-49e6-9983-49d275ab8467"
      },
      "source": [
        "print(titular_test)"
      ],
      "execution_count": null,
      "outputs": [
        {
          "output_type": "stream",
          "text": [
            "Rivera planta a Ciudadanos por Casado en su convención\n"
          ],
          "name": "stdout"
        }
      ]
    },
    {
      "cell_type": "code",
      "metadata": {
        "colab": {
          "base_uri": "https://localhost:8080/"
        },
        "id": "s2KOf-T8W_Gj",
        "outputId": "596e7158-4dc4-47ac-e207-09376ea7b1d0"
      },
      "source": [
        "print(cuerpo_test)"
      ],
      "execution_count": null,
      "outputs": [
        {
          "output_type": "stream",
          "text": [
            "La dirección de Ciudadanos (Cs) fía su suerte a la convención que han convocado en julio para relanzar el proyecto naranja, después de los malos resultados electorales que obtuvieron en Madrid y Cataluña. Fuera de la agenda oficial dejan el debate sobre la fusión con el PP, que siguen, sin embargo, instigando desde la cúpula popular. En cierta manera, la suerte de Inés Arrimadas y de su equipo depende de si son eficaces a la hora de resucitar, en los próximos meses, «su proyecto liberal y de centro». Los precedentes y el contexto político juegan en contra. \n",
            " Arrimadas no tendrá en esta convención el apoyo del «padre» del proyecto naranja: Albert Rivera no asistirá al cónclave en el que se juega su suerte el partido que fundó. Los hechos son que en los últimos meses no ha tenido ni una palabra de apoyo para el equipo que le relevó, después de su dimisión forzada por su fracaso en las últimas elecciones generales. Mientras, en su entorno sí airean, en privado, que está molesto con la estrategia de Arrimadas, y desde el lado del PP trascienden las informaciones que apuntan a que el ex líder de Cs colabora con ellos en la operación de doblar el pulso a la resistencia de Arrimadas a dejarse absorber por Pablo Casado.Rivera no se hará la foto con Arrimadas para prestarle su apoyo, pero sí se dejará ver en ese mismo mes con dirigentes del PP en un curso sobre prensa y poder que se celebrará en Castilla y León, y al que asistirá el presidente del PP, Pablo Casado, y el presidente de la Junta de esta comunidad autónoma, Alfonso Fernández Mañueco.  \n",
            " Desde el PP también extienden la idea de que cuentan con Rivera para la Convención Nacional que ellos celebrarán en otoño. En esta Convención, Casado pretende dar un impulso a su proyecto de reunificación del centro derecha, y, en el plan en el que ya trabajan en Génova para escenificar una vez más el mantra de la apertura del partido, la presencia de Rivera sería un gran golpe de efecto para la estrategia de la cúpula popular.La Convención de julio fue uno de los escudos de los que echó mano Arrimadas para sortear el golpe de las elecciones del 4-M y la desaparición de su partido de la Asamblea de Madrid, donde hasta entonces ocupaba 26 escaños y formaba parte del Gobierno de la Puerta del Sol.  \n",
            " La difícil situación que atraviesa la formación naranja ha llevado a que la convención se vincule con un posible proyecto de refundación tras los reveses electorales.  \n",
            " Desde el entorno de Rivera sostienen que «Cs no tiene más futuro político que aceptar su absorción por el PP», y que cuanto más se retrase la decisión, «más difícil será el encaje de Arrimadas en el proyecto y su continuidad en la vida política». «Y menor será el precio que pueda pedir Cs para gestionar la pérdida de autonomía». \n",
            " Este razonamiento coincide con el que hacen en las filas populares. Los tropiezos electorales y la debilidad orgánica de Ciudadanos llevan a que en el PP sostengan que los cargos naranjas «cada vez valen menos», y que después del resultado electoral de Madrid, la dirección del partido debería centrarse «en el liderazgo de Casado y en diseñar una alternativa sólida en vez de seguir abriendo espacios a cargos de una formación que está ya amortizada».Tras el golpe del 4-M la líder de Cs evitó dimisiones y convocó la Convención para mantener a flote a Ciudadanos, con Edmundo Bal, candidato en las elecciones de Madrid, como su hombre fuerte al frente de la Secretaría General del partido. La líder naranja tiene el control del grupo parlamentario, pero no la lealtad de todas las organizaciones territoriales, y aunque ahora pueda seguir sosteniendo al partido, el problema puede agravarse cuando se aproximen las próximas elecciones autonómicas y municipales porque éste puede ser el momento de la gran estampida de cargos naranjas para irse a las listas del PP. \n",
            " A nivel territorial esto genera también importantes tensiones dentro de la organización popular, como ya se vio en el País Vasco, donde incluso provocó la caída de la dirección regional por oponerse a la estrategia de Génova. En Cataluña, el PP catalán frenó que se aplicase esa misma política. Y desde las baronías se posicionan ya preventivamente contra la orden de Génova de abrir hueco a «peones» naranjas. \n",
            " En la estabilidad de Arrimadas hasta llegar a las próximas elecciones influirá lo que hagan en el entorno de Rivera en contra de la actual dirección de Cs.  \n",
            " La OPA hostil cuenta en su diseño con quien fuera mano derecha de Rivera cuando estaba en la Presidencia de Ciudadanos, Fran Hervías. \n",
            "  Y en esta operación de absorción, Génova ha empezado a contar con el bufete que preside Rivera para redactar sus recursos de inconstitucionalidad y hasta ha incorporado a unos de los últimos fichajes de Rivera, el ex ejecutivo de Coca Cola Marcos de Quinto, para que colabore con el Grupo Popular en cursos de formación. \n",
            " En Ciudadanos dicen que «Arrimadas está dispuesta a seguir peleando», y califican de «desleal» la actitud de Rivera desde que abandonó la dirección del partido. «No sólo no ayuda, sino que pone piedras en el camino.  \n",
            " Cuando estamos donde estamos por culpa de sus decisiones», afirman en la organización andaluza naranja.\n"
          ],
          "name": "stdout"
        }
      ]
    },
    {
      "cell_type": "code",
      "metadata": {
        "id": "WwsJYwbdUvyn"
      },
      "source": [
        "def preprocesado(texto):\n",
        "  # Se eliminan las etiquetas HTML mediante la librería BeautifulSoup\n",
        "  soup = BeautifulSoup(texto, \"html.parser\")\n",
        "  # Se convierte a minúsculas\n",
        "  texto = soup.get_text().lower()\n",
        "  #Se eliminan los enlaces\n",
        "  texto = re.sub(r'http[s]?://(?:[a-zA-Z]|[0-9]|[$-_@.&+]|[!*\\(\\),]|(?:%[0-9a-fA-F][0-9a-fA-F]))+', '', texto)\n",
        "  # Unificar comillas\n",
        "  texto = re.sub(r'([\\'\\“\\”])', r'\"', texto)\n",
        "  # Se eliminan caracteres especiales (se sustituyen por un espacio)\n",
        "  texto = re.sub(r'([\\\\\\/\\;\\:\\|•«\\n])', ' ', texto)  \n",
        "  # Se eliminan los espacios consecutivos (se han generado algunos previamente)\n",
        "  texto = re.sub(r'\\s+', ' ', texto).strip()\n",
        "  return texto"
      ],
      "execution_count": null,
      "outputs": []
    },
    {
      "cell_type": "code",
      "metadata": {
        "colab": {
          "base_uri": "https://localhost:8080/"
        },
        "id": "gnVRMqg5U7pb",
        "outputId": "d16f533b-4fcb-4da0-c73b-8df497bc165a"
      },
      "source": [
        "cuerpo_test_limpio = preprocesado(cuerpo_test)\n",
        "print(cuerpo_test_limpio)"
      ],
      "execution_count": null,
      "outputs": [
        {
          "output_type": "stream",
          "text": [
            "la dirección de ciudadanos (cs) fía su suerte a la convención que han convocado en julio para relanzar el proyecto naranja, después de los malos resultados electorales que obtuvieron en madrid y cataluña. fuera de la agenda oficial dejan el debate sobre la fusión con el pp, que siguen, sin embargo, instigando desde la cúpula popular. en cierta manera, la suerte de inés arrimadas y de su equipo depende de si son eficaces a la hora de resucitar, en los próximos meses, su proyecto liberal y de centro». los precedentes y el contexto político juegan en contra. arrimadas no tendrá en esta convención el apoyo del padre» del proyecto naranja albert rivera no asistirá al cónclave en el que se juega su suerte el partido que fundó. los hechos son que en los últimos meses no ha tenido ni una palabra de apoyo para el equipo que le relevó, después de su dimisión forzada por su fracaso en las últimas elecciones generales. mientras, en su entorno sí airean, en privado, que está molesto con la estrategia de arrimadas, y desde el lado del pp trascienden las informaciones que apuntan a que el ex líder de cs colabora con ellos en la operación de doblar el pulso a la resistencia de arrimadas a dejarse absorber por pablo casado.rivera no se hará la foto con arrimadas para prestarle su apoyo, pero sí se dejará ver en ese mismo mes con dirigentes del pp en un curso sobre prensa y poder que se celebrará en castilla y león, y al que asistirá el presidente del pp, pablo casado, y el presidente de la junta de esta comunidad autónoma, alfonso fernández mañueco. desde el pp también extienden la idea de que cuentan con rivera para la convención nacional que ellos celebrarán en otoño. en esta convención, casado pretende dar un impulso a su proyecto de reunificación del centro derecha, y, en el plan en el que ya trabajan en génova para escenificar una vez más el mantra de la apertura del partido, la presencia de rivera sería un gran golpe de efecto para la estrategia de la cúpula popular.la convención de julio fue uno de los escudos de los que echó mano arrimadas para sortear el golpe de las elecciones del 4-m y la desaparición de su partido de la asamblea de madrid, donde hasta entonces ocupaba 26 escaños y formaba parte del gobierno de la puerta del sol. la difícil situación que atraviesa la formación naranja ha llevado a que la convención se vincule con un posible proyecto de refundación tras los reveses electorales. desde el entorno de rivera sostienen que cs no tiene más futuro político que aceptar su absorción por el pp», y que cuanto más se retrase la decisión, más difícil será el encaje de arrimadas en el proyecto y su continuidad en la vida política». y menor será el precio que pueda pedir cs para gestionar la pérdida de autonomía». este razonamiento coincide con el que hacen en las filas populares. los tropiezos electorales y la debilidad orgánica de ciudadanos llevan a que en el pp sostengan que los cargos naranjas cada vez valen menos», y que después del resultado electoral de madrid, la dirección del partido debería centrarse en el liderazgo de casado y en diseñar una alternativa sólida en vez de seguir abriendo espacios a cargos de una formación que está ya amortizada».tras el golpe del 4-m la líder de cs evitó dimisiones y convocó la convención para mantener a flote a ciudadanos, con edmundo bal, candidato en las elecciones de madrid, como su hombre fuerte al frente de la secretaría general del partido. la líder naranja tiene el control del grupo parlamentario, pero no la lealtad de todas las organizaciones territoriales, y aunque ahora pueda seguir sosteniendo al partido, el problema puede agravarse cuando se aproximen las próximas elecciones autonómicas y municipales porque éste puede ser el momento de la gran estampida de cargos naranjas para irse a las listas del pp. a nivel territorial esto genera también importantes tensiones dentro de la organización popular, como ya se vio en el país vasco, donde incluso provocó la caída de la dirección regional por oponerse a la estrategia de génova. en cataluña, el pp catalán frenó que se aplicase esa misma política. y desde las baronías se posicionan ya preventivamente contra la orden de génova de abrir hueco a peones» naranjas. en la estabilidad de arrimadas hasta llegar a las próximas elecciones influirá lo que hagan en el entorno de rivera en contra de la actual dirección de cs. la opa hostil cuenta en su diseño con quien fuera mano derecha de rivera cuando estaba en la presidencia de ciudadanos, fran hervías. y en esta operación de absorción, génova ha empezado a contar con el bufete que preside rivera para redactar sus recursos de inconstitucionalidad y hasta ha incorporado a unos de los últimos fichajes de rivera, el ex ejecutivo de coca cola marcos de quinto, para que colabore con el grupo popular en cursos de formación. en ciudadanos dicen que arrimadas está dispuesta a seguir peleando», y califican de desleal» la actitud de rivera desde que abandonó la dirección del partido. no sólo no ayuda, sino que pone piedras en el camino. cuando estamos donde estamos por culpa de sus decisiones», afirman en la organización andaluza naranja.\n"
          ],
          "name": "stdout"
        }
      ]
    },
    {
      "cell_type": "code",
      "metadata": {
        "id": "c_jvQ5IZVAVL"
      },
      "source": [
        "# Se tokeniza la entrada\n",
        "inputs = tokenizer.encode(\"summarize: \" + cuerpo_test_limpio, return_tensors=\"pt\", max_length=1024, truncation=True)"
      ],
      "execution_count": null,
      "outputs": []
    },
    {
      "cell_type": "code",
      "metadata": {
        "colab": {
          "base_uri": "https://localhost:8080/"
        },
        "id": "fN4pus6xVAVL",
        "outputId": "58ce47d3-e0e2-41b3-f8f7-51daba0bc9bb"
      },
      "source": [
        "# Se genera la salida a partir del modelo cargado\n",
        "outputs = loaded_model.generate(\n",
        "    inputs, \n",
        "    max_length=128, \n",
        "    min_length=10, \n",
        "    length_penalty=2.0, \n",
        "    num_beams=4, \n",
        "    early_stopping=True)\n",
        "# just for debugging\n",
        "print(outputs)\n",
        "print(tokenizer.decode(outputs[0]))"
      ],
      "execution_count": null,
      "outputs": [
        {
          "output_type": "stream",
          "text": [
            "tensor([[     0,    259,  84444,    337,    259,    276,   2911,    537,    303,\n",
            "           1218, 107889,    289,   3482,    269,    283,    742,  75077,    450,\n",
            "            362,    259,   3758,      1]])\n",
            "<pad> ciudadanos y casado se juegan en contra de la fusión con el pp</s>\n"
          ],
          "name": "stdout"
        }
      ]
    },
    {
      "cell_type": "code",
      "metadata": {
        "id": "EufzbJE8XXQS"
      },
      "source": [
        "# OTRA NOTICIA\n",
        "cuerpo_test_2 = df_larazon_test.loc[10]['cuerpo']\n",
        "titular_test_2 = df_larazon_test.loc[10]['titular']"
      ],
      "execution_count": null,
      "outputs": []
    },
    {
      "cell_type": "code",
      "metadata": {
        "colab": {
          "base_uri": "https://localhost:8080/"
        },
        "id": "5uA4FCThXXQV",
        "outputId": "c247bd7a-e51f-438b-89a8-af2e55c03872"
      },
      "source": [
        "print(titular_test_2)"
      ],
      "execution_count": null,
      "outputs": [
        {
          "output_type": "stream",
          "text": [
            "El conflicto en Oriente Medio abre otra brecha entre Podemos y Sánchez\n"
          ],
          "name": "stdout"
        }
      ]
    },
    {
      "cell_type": "code",
      "metadata": {
        "colab": {
          "base_uri": "https://localhost:8080/"
        },
        "id": "4DR3gflTXXQW",
        "outputId": "de4879c4-2205-4566-e7f0-9aaa4550be77"
      },
      "source": [
        "print(cuerpo_test_2)"
      ],
      "execution_count": null,
      "outputs": [
        {
          "output_type": "stream",
          "text": [
            "Silencio absoluto del presidente del Gobierno sobre lo que está sucediendo en Oriente Medio. El presidente Pedro Sánchez, muy partidario de comentar cualquier aspecto de la realidad en las redes sociales, no se ha pronunciado sobre la nueva escalada de tensión entre Israel y Palestina.Sí lo ha hecho la ministra de Exteriores, Arancha González Laya, que reivindicó el sábado «la voz fuerte» de Europa en la resolución del conflicto, que además deberá ir de la mano de la «negociación y el diálogo». Hasta aquí la implicación de la parte mayoritaria del Gobierno de coalición que parece pasar de puntillas sobre lo que está sucediendo en el ámbito internacional ya que desde que tomó posesión, la influencia de España es mejorable.Mientras el PSOE no toma partido, sus aliados en el Ejecutivo son transparentes y claros en su posición respecto a Oriente Medio. Exigen una condena a Israel por defenderse del terrorismo islámico. Así, otra vez, Podemos va por libre en la estrategia diplomática del Ejecutivo y asume iniciativas que ponen contra las cuerdas al ministerio de Exteriores y arriesgan las relaciones de España. Este pasado viernes, el grupo parlamentario que lidera en el Congreso Pablo Echenique dio muestra de ello, con una declaración que puede tener consecuencias. En un comunicado, los morados denunciaron los muertos en los bombardeos israelíes e instaron al cese de las hostilidades recriminando solamente a una de las partes, sin referirse en ningún momento a los cohetes que los grupos armados palestinos están lanzando disparando desde Gaza contra territorio israelí. \n",
            " Frente a la toma de posición de Podemos en este conflicto, desde el Ejecutivo se remiten a la posición europea, sin tomar partido ni mostrar liderazgo, a diferencia del resto de vecinos europeos.En el caso del presidente francés, Emmanuel Macron, el pasado viernes expresó a Israel la urgencia de «una vuelta a la paz» y le transmitió su preocupación por la población civil en Gaza, a la par que trasladó sus condolencias a las víctimas de los terroristas de Hamás. Por su parte, la canciller de Alemania, Angela Merkel, condenó enérgicamente los bombardeos de cohetes contra el territorio de Israel, los cuales califica de ataques terroristas. También, el presidente de EE UU, Joe Biden –quien por cierto todavía no ha hablado con el presidente Sánchez desde su investidura– subrayó la necesidad de que Hamás cese sus ataques. En definitiva, mientras las potencias reaccionan al conflicto, el presidente español calla y su socio minoritario trata de imponer, otra vez, su opinión.\n"
          ],
          "name": "stdout"
        }
      ]
    },
    {
      "cell_type": "code",
      "metadata": {
        "id": "zq_6ANVzXXQX"
      },
      "source": [
        "cuerpo_test_limpio_2 = preprocesado(cuerpo_test_2)"
      ],
      "execution_count": null,
      "outputs": []
    },
    {
      "cell_type": "code",
      "metadata": {
        "id": "O7SsRO7FXXQX"
      },
      "source": [
        "# Se tokeniza la entrada\n",
        "inputs = tokenizer.encode(\"summarize: \" + cuerpo_test_limpio_2, return_tensors=\"pt\", max_length=1024, truncation=True)"
      ],
      "execution_count": null,
      "outputs": []
    },
    {
      "cell_type": "code",
      "metadata": {
        "colab": {
          "base_uri": "https://localhost:8080/"
        },
        "id": "SvDiH5SiXXQY",
        "outputId": "d10bec7f-5992-4e31-9ced-5241e68a1dbd"
      },
      "source": [
        "# Se genera la salida a partir del modelo cargado\n",
        "outputs = loaded_model.generate(\n",
        "    inputs, \n",
        "    max_length=128, \n",
        "    min_length=10, \n",
        "    length_penalty=2.0, \n",
        "    num_beams=4, \n",
        "    early_stopping=True)\n",
        "# just for debugging\n",
        "print(outputs)\n",
        "print(tokenizer.decode(outputs[0]))"
      ],
      "execution_count": null,
      "outputs": [
        {
          "output_type": "stream",
          "text": [
            "tensor([[    0,   259,   263,  1301, 10320,   375,   303, 99630,  1615,   362,\n",
            "         31320,   268,   289, 24769,   265,  9458,     1]])\n",
            "<pad> sánchez no se pronuncia sobre el conflicto en oriente medio</s>\n"
          ],
          "name": "stdout"
        }
      ]
    },
    {
      "cell_type": "code",
      "metadata": {
        "id": "lQTYLsUrY4QT"
      },
      "source": [
        "# OTRA NOTICIA\n",
        "cuerpo_test_3 = df_larazon_test.loc[12]['cuerpo']\n",
        "titular_test_3 = df_larazon_test.loc[12]['titular']"
      ],
      "execution_count": null,
      "outputs": []
    },
    {
      "cell_type": "code",
      "metadata": {
        "colab": {
          "base_uri": "https://localhost:8080/"
        },
        "id": "Mu8NpYjPY4QT",
        "outputId": "c2b7cc15-7dc4-49a1-e60f-7f7c4ee8aee9"
      },
      "source": [
        "print(titular_test_3)"
      ],
      "execution_count": null,
      "outputs": [
        {
          "output_type": "stream",
          "text": [
            "Trapero vuelve a Madrid para una cumbre policial con el Ministerio del Interior\n"
          ],
          "name": "stdout"
        }
      ]
    },
    {
      "cell_type": "code",
      "metadata": {
        "colab": {
          "base_uri": "https://localhost:8080/"
        },
        "id": "pQzlOHdbY4QU",
        "outputId": "1ea86d82-f390-41b3-a857-069bfbcdd42c"
      },
      "source": [
        "print(cuerpo_test_3)"
      ],
      "execution_count": null,
      "outputs": [
        {
          "output_type": "stream",
          "text": [
            "El secretario de Estado de Seguridad Rafael Pérez presidirá el martes, en el Ministerio del Interior, una cumbre a la que asistirán los principales mandos de Guardia civil y Policía; y de los Mossos D’ Esquadra por la Generalitat de Cataluña, con la presencia del jefe de este cuerpo policial, José Luis Trapero. Vuelve a la capital de España, pero no a la Audiencia Nacional, donde fue absuelto del delito de rebelión, sino como máximo representante de seguridad. Ya estuvo en la Comunidad de Madrid para asistir al acto, en Valdemoro, de destrucción de armas que se incautaron a bandas terroristas, pero en este caso se trrata de una reunión operativa.La cumbre tendrá lugar por la mañana y el objetivo principal es el intercambio de información en materias tan sensibles como la lucha antiterrorista, la delincuencia organizada (sobre todo grupos itinerantes), narcotráfico, ciberdelincuencia, etcétera, según han informado a LA RAZÓN fuentes policiales. \n",
            " Estarán presentes los Directores Adjuntos Operativos (DAO) de la Guardia Civil y de la Policía, Pablo salas y José Ángel González; y los máximos responsables de Policía Judicial, Información, Seguridad Ciudadana, así como el jefe superior de Policía y el general jefe de la zona de Cataluña. \n",
            " Trapero vendrá acompañado de tres comisarios de la cúpula de los Mossos.\n"
          ],
          "name": "stdout"
        }
      ]
    },
    {
      "cell_type": "code",
      "metadata": {
        "id": "VDGrCVblZPiN"
      },
      "source": [
        "cuerpo_test_limpio_3 = preprocesado(cuerpo_test_3)"
      ],
      "execution_count": null,
      "outputs": []
    },
    {
      "cell_type": "code",
      "metadata": {
        "id": "sdUVJ1Q3Y4QU"
      },
      "source": [
        "# Se tokeniza la entrada\n",
        "inputs = tokenizer.encode(\"summarize: \" + cuerpo_test_limpio_3, return_tensors=\"pt\", max_length=1024, truncation=True)"
      ],
      "execution_count": null,
      "outputs": []
    },
    {
      "cell_type": "code",
      "metadata": {
        "colab": {
          "base_uri": "https://localhost:8080/"
        },
        "id": "-ey_PRWtY4QV",
        "outputId": "2e314066-c28c-4e68-96b7-6b8a01ca3279"
      },
      "source": [
        "# Se genera la salida a partir del modelo cargado\n",
        "outputs = loaded_model.generate(\n",
        "    inputs, \n",
        "    max_length=128, \n",
        "    min_length=10, \n",
        "    length_penalty=2.0, \n",
        "    num_beams=4, \n",
        "    early_stopping=True)\n",
        "# just for debugging\n",
        "print(outputs)\n",
        "print(tokenizer.decode(outputs[0]))"
      ],
      "execution_count": null,
      "outputs": [
        {
          "output_type": "stream",
          "text": [
            "tensor([[     0,    259, 127053,    701,    421,  35188, 102816,  84614,    573,\n",
            "            317, 103394,    259,    262,    283,    319,  84687,    266,   4008,\n",
            "            595,  25566,    263,    674,   1513,    269,    259, 125617,   9242,\n",
            "            259,    276,  24774,   1703,      1]])\n",
            "<pad> rafael pérez presidirá una cumbre a la que asistirán los principales mandos de guardia civil y policía</s>\n"
          ],
          "name": "stdout"
        }
      ]
    }
  ]
}